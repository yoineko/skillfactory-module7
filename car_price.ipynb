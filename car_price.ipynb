{
  "nbformat": 4,
  "nbformat_minor": 0,
  "metadata": {
    "kernelspec": {
      "display_name": "Python 3",
      "language": "python",
      "name": "python3"
    },
    "language_info": {
      "codemirror_mode": {
        "name": "ipython",
        "version": 3
      },
      "file_extension": ".py",
      "mimetype": "text/x-python",
      "name": "python",
      "nbconvert_exporter": "python",
      "pygments_lexer": "ipython3",
      "version": "3.7.6"
    },
    "papermill": {
      "duration": 7917.279722,
      "end_time": "2020-09-01T16:21:01.404990",
      "environment_variables": {},
      "exception": null,
      "input_path": "__notebook__.ipynb",
      "output_path": "__notebook__.ipynb",
      "parameters": {},
      "start_time": "2020-09-01T14:09:04.125268",
      "version": "2.1.0"
    },
    "colab": {
      "name": "car-price.ipynb",
      "provenance": [],
      "collapsed_sections": [
        "vlSG_nhFVZwJ",
        "n3vzqB0QVZwO",
        "oQScCqxEVZwT",
        "_AhUmAOmVZwh",
        "REJUG9bTVZwl",
        "QASEqIY2VZwt",
        "bFQTSe1CVZx6"
      ],
      "toc_visible": true,
      "machine_shape": "hm",
      "include_colab_link": true
    },
    "accelerator": "GPU"
  },
  "cells": [
    {
      "cell_type": "markdown",
      "metadata": {
        "id": "view-in-github",
        "colab_type": "text"
      },
      "source": [
        "<a href=\"https://colab.research.google.com/github/yoineko/skillfactory-module7/blob/master/car_price.ipynb\" target=\"_parent\"><img src=\"https://colab.research.google.com/assets/colab-badge.svg\" alt=\"Open In Colab\"/></a>"
      ]
    },
    {
      "cell_type": "markdown",
      "metadata": {
        "papermill": {
          "duration": 0.021737,
          "end_time": "2020-09-01T14:09:08.801712",
          "exception": false,
          "start_time": "2020-09-01T14:09:08.779975",
          "status": "completed"
        },
        "tags": [],
        "id": "SWhq4IjIVZvQ",
        "colab_type": "text"
      },
      "source": [
        "# Car Price prediction\n",
        "\n",
        "<img src=\"https://whatcar.vn/media/2018/09/car-lot-940x470.jpg\"/>\n",
        "\n",
        "## Прогнозирование стоимости автомобиля по характеристикам\n",
        "*Этот ноутбук является шаблоном (Baseline) к текущему соревнованию и не служит готовым решением!*   \n",
        "Вы можете использовать его как основу для построения своего решения.\n",
        "\n",
        "\n",
        "> **Baseline** создается больше как шаблон, где можно посмотреть, как происходит обращение с входящими данными и что нужно получить на выходе. При этом ML начинка может быть достаточно простой. Это помогает быстрее приступить к самому ML, а не тратить ценное время на инженерные задачи. \n",
        "Также baseline является хорошей опорной точкой по метрике. Если наше решение хуже baseline -  мы явно делаем что-то не так и стоит попробовать другой путь) "
      ]
    },
    {
      "cell_type": "markdown",
      "metadata": {
        "papermill": {
          "duration": 0.020797,
          "end_time": "2020-09-01T14:09:08.844159",
          "exception": false,
          "start_time": "2020-09-01T14:09:08.823362",
          "status": "completed"
        },
        "tags": [],
        "id": "h8nbHThgVZvT",
        "colab_type": "text"
      },
      "source": [
        "## В baseline мы сделаем следующее:\n",
        "* Построим \"наивную\"/baseline модель, предсказывающую цену по модели и году выпуска (с ней будем сравнивать другие модели)\n",
        "* Обработаем и отнормируем признаки\n",
        "* Сделаем первую модель на основе градиентного бустинга с помощью CatBoost\n",
        "* Сделаем вторую модель на основе нейронных сетей и сравним результаты\n",
        "* Сделаем multi-input нейронную сеть для анализа табличных данных и текста одновременно\n",
        "* Добавим в multi-input сеть обработку изображений\n",
        "* Осуществим ансамблирование градиентного бустинга и нейронной сети (усреднение их предсказаний)"
      ]
    },
    {
      "cell_type": "code",
      "metadata": {
        "_kg_hide-input": true,
        "execution": {
          "iopub.execute_input": "2020-09-01T14:09:08.892626Z",
          "iopub.status.busy": "2020-09-01T14:09:08.891792Z",
          "iopub.status.idle": "2020-09-01T14:09:18.107697Z",
          "shell.execute_reply": "2020-09-01T14:09:18.107012Z"
        },
        "papermill": {
          "duration": 9.242505,
          "end_time": "2020-09-01T14:09:18.107857",
          "exception": false,
          "start_time": "2020-09-01T14:09:08.865352",
          "status": "completed"
        },
        "tags": [],
        "id": "TCGuwB67VZvV",
        "colab_type": "code",
        "colab": {}
      },
      "source": [
        "!pip install -q tensorflow==2.3"
      ],
      "execution_count": null,
      "outputs": []
    },
    {
      "cell_type": "code",
      "metadata": {
        "id": "Ru9FtmMHZ2Jg",
        "colab_type": "code",
        "colab": {
          "base_uri": "https://localhost:8080/",
          "height": 343
        },
        "outputId": "022424ce-8fe7-4c72-b115-e9bd13c2f394"
      },
      "source": [
        "!pip install catboost"
      ],
      "execution_count": null,
      "outputs": [
        {
          "output_type": "stream",
          "text": [
            "Collecting catboost\n",
            "\u001b[?25l  Downloading https://files.pythonhosted.org/packages/90/86/c3dcb600b4f9e7584ed90ea9d30a717fb5c0111574675f442c3e7bc19535/catboost-0.24.1-cp36-none-manylinux1_x86_64.whl (66.1MB)\n",
            "\u001b[K     |████████████████████████████████| 66.1MB 43kB/s \n",
            "\u001b[?25hRequirement already satisfied: six in /usr/local/lib/python3.6/dist-packages (from catboost) (1.15.0)\n",
            "Requirement already satisfied: pandas>=0.24.0 in /usr/local/lib/python3.6/dist-packages (from catboost) (1.0.5)\n",
            "Requirement already satisfied: plotly in /usr/local/lib/python3.6/dist-packages (from catboost) (4.4.1)\n",
            "Requirement already satisfied: matplotlib in /usr/local/lib/python3.6/dist-packages (from catboost) (3.2.2)\n",
            "Requirement already satisfied: numpy>=1.16.0 in /usr/local/lib/python3.6/dist-packages (from catboost) (1.18.5)\n",
            "Requirement already satisfied: graphviz in /usr/local/lib/python3.6/dist-packages (from catboost) (0.10.1)\n",
            "Requirement already satisfied: scipy in /usr/local/lib/python3.6/dist-packages (from catboost) (1.4.1)\n",
            "Requirement already satisfied: python-dateutil>=2.6.1 in /usr/local/lib/python3.6/dist-packages (from pandas>=0.24.0->catboost) (2.8.1)\n",
            "Requirement already satisfied: pytz>=2017.2 in /usr/local/lib/python3.6/dist-packages (from pandas>=0.24.0->catboost) (2018.9)\n",
            "Requirement already satisfied: retrying>=1.3.3 in /usr/local/lib/python3.6/dist-packages (from plotly->catboost) (1.3.3)\n",
            "Requirement already satisfied: cycler>=0.10 in /usr/local/lib/python3.6/dist-packages (from matplotlib->catboost) (0.10.0)\n",
            "Requirement already satisfied: kiwisolver>=1.0.1 in /usr/local/lib/python3.6/dist-packages (from matplotlib->catboost) (1.2.0)\n",
            "Requirement already satisfied: pyparsing!=2.0.4,!=2.1.2,!=2.1.6,>=2.0.1 in /usr/local/lib/python3.6/dist-packages (from matplotlib->catboost) (2.4.7)\n",
            "Installing collected packages: catboost\n",
            "Successfully installed catboost-0.24.1\n"
          ],
          "name": "stdout"
        }
      ]
    },
    {
      "cell_type": "code",
      "metadata": {
        "_kg_hide-input": true,
        "execution": {
          "iopub.execute_input": "2020-09-01T14:09:18.160233Z",
          "iopub.status.busy": "2020-09-01T14:09:18.156855Z",
          "iopub.status.idle": "2020-09-01T14:09:25.573187Z",
          "shell.execute_reply": "2020-09-01T14:09:25.572622Z"
        },
        "papermill": {
          "duration": 7.442899,
          "end_time": "2020-09-01T14:09:25.573314",
          "exception": false,
          "start_time": "2020-09-01T14:09:18.130415",
          "status": "completed"
        },
        "tags": [],
        "id": "bRXFqYXMVZvf",
        "colab_type": "code",
        "colab": {
          "base_uri": "https://localhost:8080/"
        },
        "outputId": "4b72c9bd-f75c-4cff-f431-7af0f9650ae1"
      },
      "source": [
        "#аугментации изображений\n",
        "!pip install albumentations -q"
      ],
      "execution_count": null,
      "outputs": [
        {
          "output_type": "stream",
          "text": [
            "\u001b[?25l\r\u001b[K     |▌                               | 10kB 22.2MB/s eta 0:00:01\r\u001b[K     |█                               | 20kB 7.3MB/s eta 0:00:01\r\u001b[K     |█▋                              | 30kB 7.5MB/s eta 0:00:01\r\u001b[K     |██                              | 40kB 8.7MB/s eta 0:00:01\r\u001b[K     |██▋                             | 51kB 7.3MB/s eta 0:00:01\r\u001b[K     |███▏                            | 61kB 8.0MB/s eta 0:00:01\r\u001b[K     |███▋                            | 71kB 8.1MB/s eta 0:00:01\r\u001b[K     |████▏                           | 81kB 8.7MB/s eta 0:00:01\r\u001b[K     |████▊                           | 92kB 8.1MB/s eta 0:00:01\r\u001b[K     |█████▏                          | 102kB 8.4MB/s eta 0:00:01\r\u001b[K     |█████▊                          | 112kB 8.4MB/s eta 0:00:01\r\u001b[K     |██████▎                         | 122kB 8.4MB/s eta 0:00:01\r\u001b[K     |██████▊                         | 133kB 8.4MB/s eta 0:00:01\r\u001b[K     |███████▎                        | 143kB 8.4MB/s eta 0:00:01\r\u001b[K     |███████▉                        | 153kB 8.4MB/s eta 0:00:01\r\u001b[K     |████████▎                       | 163kB 8.4MB/s eta 0:00:01\r\u001b[K     |████████▉                       | 174kB 8.4MB/s eta 0:00:01\r\u001b[K     |█████████▍                      | 184kB 8.4MB/s eta 0:00:01\r\u001b[K     |█████████▉                      | 194kB 8.4MB/s eta 0:00:01\r\u001b[K     |██████████▍                     | 204kB 8.4MB/s eta 0:00:01\r\u001b[K     |███████████                     | 215kB 8.4MB/s eta 0:00:01\r\u001b[K     |███████████▍                    | 225kB 8.4MB/s eta 0:00:01\r\u001b[K     |████████████                    | 235kB 8.4MB/s eta 0:00:01\r\u001b[K     |████████████▌                   | 245kB 8.4MB/s eta 0:00:01\r\u001b[K     |█████████████                   | 256kB 8.4MB/s eta 0:00:01\r\u001b[K     |█████████████▌                  | 266kB 8.4MB/s eta 0:00:01\r\u001b[K     |██████████████                  | 276kB 8.4MB/s eta 0:00:01\r\u001b[K     |██████████████▌                 | 286kB 8.4MB/s eta 0:00:01\r\u001b[K     |███████████████                 | 296kB 8.4MB/s eta 0:00:01\r\u001b[K     |███████████████▋                | 307kB 8.4MB/s eta 0:00:01\r\u001b[K     |████████████████                | 317kB 8.4MB/s eta 0:00:01\r\u001b[K     |████████████████▋               | 327kB 8.4MB/s eta 0:00:01\r\u001b[K     |█████████████████▏              | 337kB 8.4MB/s eta 0:00:01\r\u001b[K     |█████████████████▋              | 348kB 8.4MB/s eta 0:00:01\r\u001b[K     |██████████████████▏             | 358kB 8.4MB/s eta 0:00:01\r\u001b[K     |██████████████████▊             | 368kB 8.4MB/s eta 0:00:01\r\u001b[K     |███████████████████▏            | 378kB 8.4MB/s eta 0:00:01\r\u001b[K     |███████████████████▊            | 389kB 8.4MB/s eta 0:00:01\r\u001b[K     |████████████████████▎           | 399kB 8.4MB/s eta 0:00:01\r\u001b[K     |████████████████████▊           | 409kB 8.4MB/s eta 0:00:01\r\u001b[K     |█████████████████████▎          | 419kB 8.4MB/s eta 0:00:01\r\u001b[K     |█████████████████████▉          | 430kB 8.4MB/s eta 0:00:01\r\u001b[K     |██████████████████████▎         | 440kB 8.4MB/s eta 0:00:01\r\u001b[K     |██████████████████████▉         | 450kB 8.4MB/s eta 0:00:01\r\u001b[K     |███████████████████████▍        | 460kB 8.4MB/s eta 0:00:01\r\u001b[K     |███████████████████████▉        | 471kB 8.4MB/s eta 0:00:01\r\u001b[K     |████████████████████████▍       | 481kB 8.4MB/s eta 0:00:01\r\u001b[K     |█████████████████████████       | 491kB 8.4MB/s eta 0:00:01\r\u001b[K     |█████████████████████████▍      | 501kB 8.4MB/s eta 0:00:01\r\u001b[K     |██████████████████████████      | 512kB 8.4MB/s eta 0:00:01\r\u001b[K     |██████████████████████████▌     | 522kB 8.4MB/s eta 0:00:01\r\u001b[K     |███████████████████████████     | 532kB 8.4MB/s eta 0:00:01\r\u001b[K     |███████████████████████████▌    | 542kB 8.4MB/s eta 0:00:01\r\u001b[K     |████████████████████████████    | 552kB 8.4MB/s eta 0:00:01\r\u001b[K     |████████████████████████████▌   | 563kB 8.4MB/s eta 0:00:01\r\u001b[K     |█████████████████████████████   | 573kB 8.4MB/s eta 0:00:01\r\u001b[K     |█████████████████████████████▋  | 583kB 8.4MB/s eta 0:00:01\r\u001b[K     |██████████████████████████████  | 593kB 8.4MB/s eta 0:00:01\r\u001b[K     |██████████████████████████████▋ | 604kB 8.4MB/s eta 0:00:01\r\u001b[K     |███████████████████████████████▏| 614kB 8.4MB/s eta 0:00:01\r\u001b[K     |███████████████████████████████▋| 624kB 8.4MB/s eta 0:00:01\r\u001b[K     |████████████████████████████████| 634kB 8.4MB/s \n",
            "\u001b[?25h  Building wheel for imgaug (setup.py) ... \u001b[?25l\u001b[?25hdone\n"
          ],
          "name": "stdout"
        }
      ]
    },
    {
      "cell_type": "code",
      "metadata": {
        "_cell_guid": "b1076dfc-b9ad-4769-8c92-a6c4dae69d19",
        "_kg_hide-input": true,
        "_uuid": "8f2839f25d086af736a60e9eeb907d3b93b6e0e5",
        "execution": {
          "iopub.execute_input": "2020-09-01T14:09:25.637182Z",
          "iopub.status.busy": "2020-09-01T14:09:25.636351Z",
          "iopub.status.idle": "2020-09-01T14:09:34.461329Z",
          "shell.execute_reply": "2020-09-01T14:09:34.462534Z"
        },
        "papermill": {
          "duration": 8.868092,
          "end_time": "2020-09-01T14:09:34.462785",
          "exception": false,
          "start_time": "2020-09-01T14:09:25.594693",
          "status": "completed"
        },
        "tags": [],
        "id": "7-jnGl7nVZvl",
        "colab_type": "code",
        "colab": {}
      },
      "source": [
        "# This Python 3 environment comes with many helpful analytics libraries installed\n",
        "# It is defined by the kaggle/python Docker image: https://github.com/kaggle/docker-python\n",
        "# For example, here's several helpful packages to load\n",
        "\n",
        "import random\n",
        "import numpy as np # linear algebra\n",
        "import pandas as pd # data processing, CSV file I/O (e.g. pd.read_csv)\n",
        "import os\n",
        "import sys\n",
        "import PIL\n",
        "import cv2\n",
        "import re\n",
        "import zipfile\n",
        "\n",
        "# Input data files are available in the read-only \"../input/\" directory\n",
        "# For example, running this (by clicking run or pressing Shift+Enter) will list all files under the input directory\n",
        "\n",
        "from catboost import CatBoostRegressor\n",
        "from sklearn.model_selection import train_test_split\n",
        "from sklearn.preprocessing import MinMaxScaler\n",
        "\n",
        "# # keras\n",
        "import tensorflow as tf\n",
        "import tensorflow.keras.layers as L\n",
        "from tensorflow.keras.models import Model, Sequential\n",
        "from tensorflow.keras.preprocessing.text import Tokenizer\n",
        "from tensorflow.keras.preprocessing import sequence\n",
        "from tensorflow.keras.callbacks import ModelCheckpoint, EarlyStopping\n",
        "import albumentations\n",
        "\n",
        "# plt\n",
        "import matplotlib.pyplot as plt\n",
        "#увеличим дефолтный размер графиков\n",
        "from pylab import rcParams\n",
        "rcParams['figure.figsize'] = 10, 5\n",
        "#графики в svg выглядят более четкими\n",
        "%config InlineBackend.figure_format = 'svg' \n",
        "%matplotlib inline\n",
        "\n",
        "# You can write up to 5GB to the current directory (/kaggle/working/) that gets preserved as output when you create a version using \"Save & Run All\" \n",
        "# You can also write temporary files to /kaggle/temp/, but they won't be saved outside of the current session"
      ],
      "execution_count": null,
      "outputs": []
    },
    {
      "cell_type": "code",
      "metadata": {
        "_kg_hide-input": true,
        "execution": {
          "iopub.execute_input": "2020-09-01T14:09:34.588552Z",
          "iopub.status.busy": "2020-09-01T14:09:34.583356Z",
          "iopub.status.idle": "2020-09-01T14:09:34.595776Z",
          "shell.execute_reply": "2020-09-01T14:09:34.594805Z"
        },
        "papermill": {
          "duration": 0.09073,
          "end_time": "2020-09-01T14:09:34.595938",
          "exception": false,
          "start_time": "2020-09-01T14:09:34.505208",
          "status": "completed"
        },
        "tags": [],
        "id": "NHArN9bhVZvr",
        "colab_type": "code",
        "colab": {
          "base_uri": "https://localhost:8080/",
          "height": 68
        },
        "outputId": "76fe277c-5794-454d-b3bf-744d6950e896"
      },
      "source": [
        "print('Python       :', sys.version.split('\\n')[0])\n",
        "print('Numpy        :', np.__version__)\n",
        "print('Tensorflow   :', tf.__version__)"
      ],
      "execution_count": null,
      "outputs": [
        {
          "output_type": "stream",
          "text": [
            "Python       : 3.6.9 (default, Jul 17 2020, 12:50:27) \n",
            "Numpy        : 1.18.5\n",
            "Tensorflow   : 2.3.0\n"
          ],
          "name": "stdout"
        }
      ]
    },
    {
      "cell_type": "code",
      "metadata": {
        "_kg_hide-input": true,
        "execution": {
          "iopub.execute_input": "2020-09-01T14:09:34.701807Z",
          "iopub.status.busy": "2020-09-01T14:09:34.700688Z",
          "iopub.status.idle": "2020-09-01T14:09:34.704261Z",
          "shell.execute_reply": "2020-09-01T14:09:34.703481Z"
        },
        "papermill": {
          "duration": 0.041954,
          "end_time": "2020-09-01T14:09:34.704402",
          "exception": false,
          "start_time": "2020-09-01T14:09:34.662448",
          "status": "completed"
        },
        "tags": [],
        "id": "v865wfxJVZvz",
        "colab_type": "code",
        "colab": {}
      },
      "source": [
        "def mape(y_true, y_pred):\n",
        "    return np.mean(np.abs((y_pred-y_true)/y_true))"
      ],
      "execution_count": null,
      "outputs": []
    },
    {
      "cell_type": "code",
      "metadata": {
        "_kg_hide-input": true,
        "execution": {
          "iopub.execute_input": "2020-09-01T14:09:34.775907Z",
          "iopub.status.busy": "2020-09-01T14:09:34.773879Z",
          "iopub.status.idle": "2020-09-01T14:09:34.778644Z",
          "shell.execute_reply": "2020-09-01T14:09:34.779509Z"
        },
        "papermill": {
          "duration": 0.044374,
          "end_time": "2020-09-01T14:09:34.779999",
          "exception": false,
          "start_time": "2020-09-01T14:09:34.735625",
          "status": "completed"
        },
        "tags": [],
        "id": "9KIT_sumVZv3",
        "colab_type": "code",
        "colab": {}
      },
      "source": [
        "# всегда фиксируйте RANDOM_SEED, чтобы ваши эксперименты были воспроизводимы!\n",
        "RANDOM_SEED = 42\n",
        "np.random.seed(RANDOM_SEED)\n",
        "#для библиотеки albumentation\n",
        "random.seed(RANDOM_SEED)"
      ],
      "execution_count": null,
      "outputs": []
    },
    {
      "cell_type": "code",
      "metadata": {
        "id": "lLjAiTXPTDo9",
        "colab_type": "code",
        "colab": {}
      },
      "source": [
        "# Текущая версия\n",
        "ver = 7\n",
        "# Текущий год + 1 \n",
        "YEAR = 2021 "
      ],
      "execution_count": null,
      "outputs": []
    },
    {
      "cell_type": "code",
      "metadata": {
        "_kg_hide-input": true,
        "execution": {
          "iopub.execute_input": "2020-09-01T14:09:34.857205Z",
          "iopub.status.busy": "2020-09-01T14:09:34.852187Z",
          "iopub.status.idle": "2020-09-01T14:09:38.286989Z",
          "shell.execute_reply": "2020-09-01T14:09:38.286088Z"
        },
        "papermill": {
          "duration": 3.474472,
          "end_time": "2020-09-01T14:09:38.287126",
          "exception": false,
          "start_time": "2020-09-01T14:09:34.812654",
          "status": "completed"
        },
        "tags": [],
        "id": "cw48ZblZVZv7",
        "colab_type": "code",
        "colab": {}
      },
      "source": [
        "!pip freeze > requirements.txt"
      ],
      "execution_count": null,
      "outputs": []
    },
    {
      "cell_type": "markdown",
      "metadata": {
        "papermill": {
          "duration": 0.022077,
          "end_time": "2020-09-01T14:09:38.331343",
          "exception": false,
          "start_time": "2020-09-01T14:09:38.309266",
          "status": "completed"
        },
        "tags": [],
        "id": "a4RZ1DlmVZv-",
        "colab_type": "text"
      },
      "source": [
        "# DATA"
      ]
    },
    {
      "cell_type": "markdown",
      "metadata": {
        "papermill": {
          "duration": 0.021291,
          "end_time": "2020-09-01T14:09:38.374795",
          "exception": false,
          "start_time": "2020-09-01T14:09:38.353504",
          "status": "completed"
        },
        "tags": [],
        "id": "mUJTnXpRVZv-",
        "colab_type": "text"
      },
      "source": [
        "Посмотрим на типы признаков:\n",
        "\n",
        "* bodyType - категориальный\n",
        "* brand - категориальный\n",
        "* color - категориальный\n",
        "* description - текстовый\n",
        "* engineDisplacement - числовой, представленный как текст\n",
        "* enginePower - числовой, представленный как текст\n",
        "* fuelType - категориальный\n",
        "* mileage - числовой\n",
        "* modelDate - числовой\n",
        "* model_info - категориальный\n",
        "* name - категориальный, желательно сократить размерность\n",
        "* numberOfDoors - категориальный\n",
        "* price - числовой, целевой\n",
        "* productionDate - числовой\n",
        "* sell_id - изображение (файл доступен по адресу, основанному на sell_id)\n",
        "* vehicleConfiguration - не используется (комбинация других столбцов)\n",
        "* vehicleTransmission - категориальный\n",
        "* Владельцы - категориальный\n",
        "* Владение - числовой, представленный как текст\n",
        "* ПТС - категориальный\n",
        "* Привод - категориальный\n",
        "* Руль - категориальный"
      ]
    },
    {
      "cell_type": "code",
      "metadata": {
        "id": "7eMpQZg6VwQK",
        "colab_type": "code",
        "colab": {}
      },
      "source": [
        "from google.colab import drive\n",
        "drive.mount('/content/drive')\n",
        "\n",
        "DATA_DIR = '/content/drive/My Drive/Colab Notebooks/Data_Sceince/BatMobile/input'\n",
        "PATH = '/content/drive/My Drive/Colab Notebooks/Data_Sceince/BatMobile/'\n",
        "WORK_PATH = \"../working/\" # рабочая директория"
      ],
      "execution_count": null,
      "outputs": []
    },
    {
      "cell_type": "code",
      "metadata": {
        "_cell_guid": "79c7e3d0-c299-4dcb-8224-4455121ee9b0",
        "_uuid": "d629ff2d2480ee46fbb7e2d37f6b5fab8052498a",
        "execution": {
          "iopub.execute_input": "2020-09-01T14:09:38.426517Z",
          "iopub.status.busy": "2020-09-01T14:09:38.425858Z",
          "iopub.status.idle": "2020-09-01T14:09:38.657548Z",
          "shell.execute_reply": "2020-09-01T14:09:38.656361Z"
        },
        "papermill": {
          "duration": 0.261441,
          "end_time": "2020-09-01T14:09:38.657670",
          "exception": false,
          "start_time": "2020-09-01T14:09:38.396229",
          "status": "completed"
        },
        "tags": [],
        "id": "BQn6aYQDVZv_",
        "colab_type": "code",
        "colab": {}
      },
      "source": [
        "#DATA_DIR = '../input/sf-dst-car-price-prediction-part2/'\n",
        "# train = pd.read_csv(DATA_DIR + 'train.csv')\n",
        "# test = pd.read_csv(DATA_DIR + 'test.csv')\n",
        "# sample_submission = pd.read_csv(DATA_DIR + 'sample_submission.csv')"
      ],
      "execution_count": null,
      "outputs": []
    },
    {
      "cell_type": "code",
      "metadata": {
        "id": "NQlCJYarWF2U",
        "colab_type": "code",
        "colab": {}
      },
      "source": [
        "train = pd.read_csv(os.path.join(DATA_DIR,'train.csv'))\n",
        "test = pd.read_csv(os.path.join(DATA_DIR,'test.csv'))\n",
        "sample_submission = pd.read_csv(os.path.join(DATA_DIR,'sample_submission.csv'))"
      ],
      "execution_count": null,
      "outputs": []
    },
    {
      "cell_type": "code",
      "metadata": {
        "id": "1KlvSv2g5E6M",
        "colab_type": "code",
        "colab": {}
      },
      "source": [
        "train.iloc[1210]"
      ],
      "execution_count": null,
      "outputs": []
    },
    {
      "cell_type": "code",
      "metadata": {
        "execution": {
          "iopub.execute_input": "2020-09-01T14:09:38.717035Z",
          "iopub.status.busy": "2020-09-01T14:09:38.716194Z",
          "iopub.status.idle": "2020-09-01T14:09:38.745770Z",
          "shell.execute_reply": "2020-09-01T14:09:38.745082Z"
        },
        "papermill": {
          "duration": 0.066467,
          "end_time": "2020-09-01T14:09:38.745904",
          "exception": false,
          "start_time": "2020-09-01T14:09:38.679437",
          "status": "completed"
        },
        "tags": [],
        "id": "s0e5MrR7VZwC",
        "colab_type": "code",
        "colab": {}
      },
      "source": [
        "train.info()"
      ],
      "execution_count": null,
      "outputs": []
    },
    {
      "cell_type": "code",
      "metadata": {
        "execution": {
          "iopub.execute_input": "2020-09-01T14:09:38.794981Z",
          "iopub.status.busy": "2020-09-01T14:09:38.794146Z",
          "iopub.status.idle": "2020-09-01T14:09:38.866521Z",
          "shell.execute_reply": "2020-09-01T14:09:38.867069Z"
        },
        "papermill": {
          "duration": 0.098086,
          "end_time": "2020-09-01T14:09:38.867211",
          "exception": false,
          "start_time": "2020-09-01T14:09:38.769125",
          "status": "completed"
        },
        "tags": [],
        "id": "EbHQHgDoVZwF",
        "colab_type": "code",
        "colab": {}
      },
      "source": [
        "train.nunique()"
      ],
      "execution_count": null,
      "outputs": []
    },
    {
      "cell_type": "code",
      "metadata": {
        "id": "He_8ii9efyoK",
        "colab_type": "code",
        "colab": {}
      },
      "source": [
        "train.isna().sum()"
      ],
      "execution_count": null,
      "outputs": []
    },
    {
      "cell_type": "code",
      "metadata": {
        "id": "pifdLH3D-BzR",
        "colab_type": "code",
        "colab": {}
      },
      "source": [
        "dir_transmissoin = {'автоматическая':' AT', 'вариатор':' CVT', 'механическая':' MT', 'роботизированная':' AMT'}"
      ],
      "execution_count": null,
      "outputs": []
    },
    {
      "cell_type": "code",
      "metadata": {
        "id": "dxBeuxq_74q_",
        "colab_type": "code",
        "colab": {}
      },
      "source": [
        "train.head()"
      ],
      "execution_count": null,
      "outputs": []
    },
    {
      "cell_type": "markdown",
      "metadata": {
        "papermill": {
          "duration": 0.021883,
          "end_time": "2020-09-01T14:09:38.911155",
          "exception": false,
          "start_time": "2020-09-01T14:09:38.889272",
          "status": "completed"
        },
        "tags": [],
        "id": "vlSG_nhFVZwJ",
        "colab_type": "text"
      },
      "source": [
        "# Model 1: Создадим \"наивную\" модель \n",
        "Эта модель будет предсказывать среднюю цену по модели и году выпуска. \n",
        "C ней будем сравнивать другие модели.\n",
        "\n"
      ]
    },
    {
      "cell_type": "code",
      "metadata": {
        "execution": {
          "iopub.execute_input": "2020-09-01T14:09:38.966235Z",
          "iopub.status.busy": "2020-09-01T14:09:38.963650Z",
          "iopub.status.idle": "2020-09-01T14:09:38.971317Z",
          "shell.execute_reply": "2020-09-01T14:09:38.970765Z"
        },
        "papermill": {
          "duration": 0.038273,
          "end_time": "2020-09-01T14:09:38.971420",
          "exception": false,
          "start_time": "2020-09-01T14:09:38.933147",
          "status": "completed"
        },
        "tags": [],
        "id": "K5mnXVnbVZwJ",
        "colab_type": "code",
        "colab": {}
      },
      "source": [
        "# split данных\n",
        "data_train, data_test = train_test_split(train, test_size=0.15, shuffle=True, random_state=RANDOM_SEED)"
      ],
      "execution_count": null,
      "outputs": []
    },
    {
      "cell_type": "code",
      "metadata": {
        "execution": {
          "iopub.execute_input": "2020-09-01T14:09:39.029328Z",
          "iopub.status.busy": "2020-09-01T14:09:39.028415Z",
          "iopub.status.idle": "2020-09-01T14:09:43.338109Z",
          "shell.execute_reply": "2020-09-01T14:09:43.336918Z"
        },
        "papermill": {
          "duration": 4.344617,
          "end_time": "2020-09-01T14:09:43.338258",
          "exception": false,
          "start_time": "2020-09-01T14:09:38.993641",
          "status": "completed"
        },
        "tags": [],
        "id": "uFG9a2heVZwM",
        "colab_type": "code",
        "colab": {}
      },
      "source": [
        "# Наивная модель\n",
        "predicts = []\n",
        "for index, row in pd.DataFrame(data_test[['model_info', 'productionDate']]).iterrows():\n",
        "    query = f\"model_info == '{row[0]}' and productionDate == '{row[1]}'\"\n",
        "    predicts.append(data_train.query(query)['price'].median())\n",
        "\n",
        "# заполним не найденные совпадения\n",
        "predicts = pd.DataFrame(predicts)\n",
        "predicts = predicts.fillna(predicts.median())\n",
        "\n",
        "# округлим\n",
        "predicts = (predicts // 1000) * 1000\n",
        "\n",
        "#оцениваем точность\n",
        "print(f\"Точность наивной модели по метрике MAPE: {(mape(data_test['price'], predicts.values[:, 0]))*100:0.2f}%\")"
      ],
      "execution_count": null,
      "outputs": []
    },
    {
      "cell_type": "markdown",
      "metadata": {
        "papermill": {
          "duration": 0.02178,
          "end_time": "2020-09-01T14:09:43.384125",
          "exception": false,
          "start_time": "2020-09-01T14:09:43.362345",
          "status": "completed"
        },
        "tags": [],
        "id": "n3vzqB0QVZwO",
        "colab_type": "text"
      },
      "source": [
        "# EDA"
      ]
    },
    {
      "cell_type": "markdown",
      "metadata": {
        "papermill": {
          "duration": 0.021899,
          "end_time": "2020-09-01T14:09:43.427989",
          "exception": false,
          "start_time": "2020-09-01T14:09:43.406090",
          "status": "completed"
        },
        "tags": [],
        "id": "eMvJzyTqVZwP",
        "colab_type": "text"
      },
      "source": [
        "Проведем быстрый анализ данных для того, чтобы понимать, сможет ли с этими данными работать наш алгоритм."
      ]
    },
    {
      "cell_type": "markdown",
      "metadata": {
        "papermill": {
          "duration": 0.021445,
          "end_time": "2020-09-01T14:09:43.470987",
          "exception": false,
          "start_time": "2020-09-01T14:09:43.449542",
          "status": "completed"
        },
        "tags": [],
        "id": "hvRBYsB-VZwP",
        "colab_type": "text"
      },
      "source": [
        "Посмотрим, как выглядят распределения числовых признаков:"
      ]
    },
    {
      "cell_type": "code",
      "metadata": {
        "_kg_hide-input": true,
        "execution": {
          "iopub.execute_input": "2020-09-01T14:09:43.528075Z",
          "iopub.status.busy": "2020-09-01T14:09:43.527369Z",
          "iopub.status.idle": "2020-09-01T14:09:44.143069Z",
          "shell.execute_reply": "2020-09-01T14:09:44.143597Z"
        },
        "papermill": {
          "duration": 0.649533,
          "end_time": "2020-09-01T14:09:44.143759",
          "exception": false,
          "start_time": "2020-09-01T14:09:43.494226",
          "status": "completed"
        },
        "tags": [],
        "id": "cySIREnYVZwQ",
        "colab_type": "code",
        "colab": {}
      },
      "source": [
        "#посмотрим, как выглядят распределения числовых признаков\n",
        "def visualize_distributions(titles_values_dict):\n",
        "  columns = min(3, len(titles_values_dict))\n",
        "  rows = (len(titles_values_dict) - 1) // columns + 1\n",
        "  fig = plt.figure(figsize = (columns * 6, rows * 4))\n",
        "  for i, (title, values) in enumerate(titles_values_dict.items()):\n",
        "    hist, bins = np.histogram(values, bins = 20)\n",
        "    ax = fig.add_subplot(rows, columns, i + 1)\n",
        "    ax.bar(bins[:-1], hist, width = (bins[1] - bins[0]) * 0.7)\n",
        "    ax.set_title(title)\n",
        "  plt.show()\n",
        "\n",
        "visualize_distributions({\n",
        "    'mileage':  train['mileage'],\n",
        "    'mileage_log':  np.log(train['mileage']).dropna(),\n",
        "    'mileage_sqrt':  np.sqrt(train['mileage']).dropna(),\n",
        "    'modelDate':  YEAR - train['modelDate'],\n",
        "    'modelDate_log':  np.log(YEAR - train['modelDate']).dropna(),\n",
        "    'modelDate_sqrt':  np.sqrt(YEAR - train['modelDate']).dropna(),\n",
        "    'productionDate':  YEAR - train['productionDate'],\n",
        "    'productionDate_log':  np.log(YEAR - train['productionDate']).dropna(),\n",
        "    'productionDate_sqrt':  np.sqrt(YEAR - train['productionDate']).dropna(),\n",
        "})"
      ],
      "execution_count": null,
      "outputs": []
    },
    {
      "cell_type": "markdown",
      "metadata": {
        "id": "9NKn9cCSDNyj",
        "colab_type": "text"
      },
      "source": [
        "Для обработки mileage лучше взять квадратный корень, а для остальных логарифм"
      ]
    },
    {
      "cell_type": "markdown",
      "metadata": {
        "papermill": {
          "duration": 0.026347,
          "end_time": "2020-09-01T14:09:44.195597",
          "exception": false,
          "start_time": "2020-09-01T14:09:44.169250",
          "status": "completed"
        },
        "tags": [],
        "id": "6LfhZdwmVZwT",
        "colab_type": "text"
      },
      "source": [
        "Итого:\n",
        "* CatBoost сможет работать с признаками и в таком виде, но для нейросети нужны нормированные данные."
      ]
    },
    {
      "cell_type": "markdown",
      "metadata": {
        "papermill": {
          "duration": 0.025426,
          "end_time": "2020-09-01T14:09:44.247843",
          "exception": false,
          "start_time": "2020-09-01T14:09:44.222417",
          "status": "completed"
        },
        "tags": [],
        "id": "oQScCqxEVZwT",
        "colab_type": "text"
      },
      "source": [
        "# PreProc Tabular Data"
      ]
    },
    {
      "cell_type": "code",
      "metadata": {
        "execution": {
          "iopub.execute_input": "2020-09-01T14:09:44.303299Z",
          "iopub.status.busy": "2020-09-01T14:09:44.302499Z",
          "iopub.status.idle": "2020-09-01T14:09:44.306973Z",
          "shell.execute_reply": "2020-09-01T14:09:44.306392Z"
        },
        "papermill": {
          "duration": 0.035351,
          "end_time": "2020-09-01T14:09:44.307078",
          "exception": false,
          "start_time": "2020-09-01T14:09:44.271727",
          "status": "completed"
        },
        "tags": [],
        "id": "FZLxyXV_VZwU",
        "colab_type": "code",
        "colab": {}
      },
      "source": [
        "#используем все текстовые признаки как категориальные без предобработки\n",
        "categorical_features = ['bodyType', 'brand', 'color',  'fuelType', 'model_info', #'name','engineDisplacement', 'enginePower','Владение','ПТС','Руль',\n",
        "  'numberOfDoors', 'vehicleTransmission', 'Владельцы',  'Привод',  'xDrive']\n",
        "  \n",
        "\n",
        "#используем все числовые признаки\n",
        "numerical_features = ['mileage', 'modelDate', 'productionDate']\n",
        "numerical_features_all = numerical_features + ['enginePower_num','engineDisplacement_num','Владение_num','prod-model']"
      ],
      "execution_count": null,
      "outputs": []
    },
    {
      "cell_type": "code",
      "metadata": {
        "execution": {
          "iopub.execute_input": "2020-09-01T14:09:44.369230Z",
          "iopub.status.busy": "2020-09-01T14:09:44.368278Z",
          "iopub.status.idle": "2020-09-01T14:09:44.384420Z",
          "shell.execute_reply": "2020-09-01T14:09:44.385139Z"
        },
        "papermill": {
          "duration": 0.051788,
          "end_time": "2020-09-01T14:09:44.385296",
          "exception": false,
          "start_time": "2020-09-01T14:09:44.333508",
          "status": "completed"
        },
        "tags": [],
        "id": "2gUlEzwSVZwW",
        "colab_type": "code",
        "colab": {}
      },
      "source": [
        "# ВАЖНО! дря корректной обработки признаков объединяем трейн и тест в один датасет\n",
        "train['sample'] = 1 # помечаем где у нас трейн\n",
        "test['sample'] = 0 # помечаем где у нас тест\n",
        "test['price'] = 0 # в тесте у нас нет значения price, мы его должны предсказать, поэтому пока просто заполняем нулями\n",
        "\n",
        "data = test.append(train, sort=False).reset_index(drop=True) # объединяем\n",
        "print(train.shape, test.shape, data.shape)"
      ],
      "execution_count": null,
      "outputs": []
    },
    {
      "cell_type": "code",
      "metadata": {
        "execution": {
          "iopub.execute_input": "2020-09-01T14:09:44.448165Z",
          "iopub.status.busy": "2020-09-01T14:09:44.447115Z",
          "iopub.status.idle": "2020-09-01T14:09:44.449944Z",
          "shell.execute_reply": "2020-09-01T14:09:44.450480Z"
        },
        "papermill": {
          "duration": 0.040288,
          "end_time": "2020-09-01T14:09:44.450613",
          "exception": false,
          "start_time": "2020-09-01T14:09:44.410325",
          "status": "completed"
        },
        "tags": [],
        "id": "Ynq8TIj7VZwZ",
        "colab_type": "code",
        "colab": {}
      },
      "source": [
        "def preproc_data(df_input):\n",
        "    '''includes several functions to pre-process the predictor data.'''\n",
        "\n",
        "    df_output = df_input.copy()\n",
        "    \n",
        "    # ################### 1. Предобработка ############################################################## \n",
        "    # убираем не нужные для модели признаки\n",
        "    df_output.drop(['description','sell_id',], axis = 1, inplace=True)\n",
        "    \n",
        "    \n",
        "    # ################### Numerical Features ############################################################## \n",
        "    # Далее заполняем пропуски\n",
        "    for column in numerical_features:\n",
        "        df_output[column].fillna(df_output[column].median(), inplace=True)\n",
        "    # тут ваш код по обработке NAN\n",
        "    df_output['Владельцы'].fillna('0', inplace=True)\n",
        "    df_output['Владение'].fillna('-1', inplace=True)\n",
        "    \n",
        "    df_output['enginePower_num'] = df_output['enginePower'].apply(lambda x:x[:-4])\n",
        " #df_output['engineDisplacement_num'] = df_output['engineDisplacement'].apply(lambda x:int(float(x[:-4]) * 10 ) if x != 'undefined LTR' else 0) \n",
        "    df_output['engineDisplacement_num'] = df_output['engineDisplacement'].apply(lambda x:float(x[:-4]) if x != 'undefined LTR' else 0) \n",
        "    df_output['xDrive'] = df_output.apply(lambda x: x['name'].split(dir_transmissoin[x['vehicleTransmission']])[0].split(x['engineDisplacement'][:-4])[0], axis=1)\n",
        "    \n",
        "\n",
        "\n",
        "        ## 3. Столбец владение\n",
        "    \n",
        "    def num_of_months(row):\n",
        "        if row['Владение']!='-1':\n",
        "            list_ownership = row['Владение'].split()\n",
        "            if len(list_ownership) == 2:\n",
        "                if list_ownership[1] in ['год', 'года', 'лет']:\n",
        "                    return int(list_ownership[0])*12\n",
        "                return int(list_ownership[0])\n",
        "            return int(list_ownership[0])*12 + int(list_ownership[3])\n",
        "        else:\n",
        "            if row['Владельцы'] == '3 или более':\n",
        "                return (YEAR - row['productionDate'])*12/3\n",
        "            elif row['Владельцы'] == '2 владельца':\n",
        "                return (YEAR - row['productionDate'])*12/2\n",
        "            else:\n",
        "                return (YEAR - row['productionDate'])*12\n",
        "\n",
        "    df_output['Владение_num'] = df_output.apply(num_of_months, axis=1)\n",
        "    \n",
        "    df_output['ПТС'] = df_output['ПТС'].map(lambda x:1 if x=='Оригинал' else 0 )\n",
        "    df_output['Руль'] = df_output['Руль'].map(lambda x:1 if x=='Левый' else 0 )\n",
        "\n",
        "    # ################### Categorical Features ############################################################## \n",
        "    # Label Encoding\n",
        "    for column in categorical_features:\n",
        "        df_output[column] = df_output[column].astype('category').cat.codes\n",
        "        \n",
        "    # One-Hot Encoding: в pandas есть готовая функция - get_dummies.\n",
        "    df_output = pd.get_dummies(df_output, columns=categorical_features, dummy_na=False)\n",
        "    # тут ваш код не Encoding фитчей\n",
        "    # ....\n",
        "    \n",
        "    \n",
        "    # ################### Feature Engineering ####################################################\n",
        "    # тут ваш код не генерацию новых фитчей\n",
        "\n",
        "        #корень пробега \n",
        "    df_output['mileage'] =  df_output['mileage'].map(lambda x: x**0.5)\n",
        "    \n",
        "    \n",
        "    # Новые столбцы\n",
        "        \n",
        "    df_output['prod-model'] =df_output['modelDate'] - df_output['productionDate']\n",
        "    df_output['modelDate'] = np.log(YEAR - df_output['modelDate'])\n",
        "    df_output['productionDate'] = np.log(YEAR - df_output['productionDate'])\n",
        "\n",
        "        # Нормализация данных\n",
        "    scaler = MinMaxScaler()\n",
        "    for column in numerical_features_all:\n",
        "        df_output[column] = scaler.fit_transform(df_output[[column]])[:,0]\n",
        "    \n",
        "    # ################### Clean #################################################### \n",
        "    # убираем признаки которые еще не успели обработать, \n",
        "    df_output.drop(['vehicleConfiguration','engineDisplacement','enginePower','name','Владение'], axis = 1, inplace=True)\n",
        "    \n",
        "\n",
        "    return df_output"
      ],
      "execution_count": null,
      "outputs": []
    },
    {
      "cell_type": "markdown",
      "metadata": {
        "id": "swn9CVip6LpT",
        "colab_type": "text"
      },
      "source": [
        ""
      ]
    },
    {
      "cell_type": "code",
      "metadata": {
        "execution": {
          "iopub.execute_input": "2020-09-01T14:09:44.509103Z",
          "iopub.status.busy": "2020-09-01T14:09:44.508349Z",
          "iopub.status.idle": "2020-09-01T14:09:44.662185Z",
          "shell.execute_reply": "2020-09-01T14:09:44.661495Z"
        },
        "papermill": {
          "duration": 0.187728,
          "end_time": "2020-09-01T14:09:44.662303",
          "exception": false,
          "start_time": "2020-09-01T14:09:44.474575",
          "status": "completed"
        },
        "tags": [],
        "id": "xmnCUvIDVZwc",
        "colab_type": "code",
        "colab": {}
      },
      "source": [
        "# Запускаем и проверяем, что получилось\n",
        "df_preproc = preproc_data(data)\n",
        "df_preproc.sample(10)"
      ],
      "execution_count": null,
      "outputs": []
    },
    {
      "cell_type": "code",
      "metadata": {
        "execution": {
          "iopub.execute_input": "2020-09-01T14:09:44.745505Z",
          "iopub.status.busy": "2020-09-01T14:09:44.740533Z",
          "iopub.status.idle": "2020-09-01T14:09:44.799892Z",
          "shell.execute_reply": "2020-09-01T14:09:44.799220Z"
        },
        "papermill": {
          "duration": 0.11022,
          "end_time": "2020-09-01T14:09:44.800019",
          "exception": false,
          "start_time": "2020-09-01T14:09:44.689799",
          "status": "completed"
        },
        "tags": [],
        "id": "rnuRZewqVZwe",
        "colab_type": "code",
        "colab": {}
      },
      "source": [
        "df_preproc.info()"
      ],
      "execution_count": null,
      "outputs": []
    },
    {
      "cell_type": "markdown",
      "metadata": {
        "papermill": {
          "duration": 0.023926,
          "end_time": "2020-09-01T14:09:44.851164",
          "exception": false,
          "start_time": "2020-09-01T14:09:44.827238",
          "status": "completed"
        },
        "tags": [],
        "id": "_AhUmAOmVZwh",
        "colab_type": "text"
      },
      "source": [
        "## Split data"
      ]
    },
    {
      "cell_type": "code",
      "metadata": {
        "execution": {
          "iopub.execute_input": "2020-09-01T14:09:44.931452Z",
          "iopub.status.busy": "2020-09-01T14:09:44.926300Z",
          "iopub.status.idle": "2020-09-01T14:09:45.059351Z",
          "shell.execute_reply": "2020-09-01T14:09:45.058674Z"
        },
        "papermill": {
          "duration": 0.182559,
          "end_time": "2020-09-01T14:09:45.059468",
          "exception": false,
          "start_time": "2020-09-01T14:09:44.876909",
          "status": "completed"
        },
        "tags": [],
        "id": "l1TCqtZfVZwh",
        "colab_type": "code",
        "colab": {}
      },
      "source": [
        "# Теперь выделим тестовую часть\n",
        "train_data = df_preproc.query('sample == 1').drop(['sample'], axis=1)\n",
        "test_data = df_preproc.query('sample == 0').drop(['sample'], axis=1)\n",
        "\n",
        "y = train_data.price.values     # наш таргет\n",
        "X = train_data.drop(['price'], axis=1)\n",
        "X_sub = test_data.drop(['price'], axis=1)"
      ],
      "execution_count": null,
      "outputs": []
    },
    {
      "cell_type": "code",
      "metadata": {
        "execution": {
          "iopub.execute_input": "2020-09-01T14:09:45.137317Z",
          "iopub.status.busy": "2020-09-01T14:09:45.136219Z",
          "iopub.status.idle": "2020-09-01T14:09:45.389948Z",
          "shell.execute_reply": "2020-09-01T14:09:45.390992Z"
        },
        "papermill": {
          "duration": 0.304163,
          "end_time": "2020-09-01T14:09:45.391217",
          "exception": false,
          "start_time": "2020-09-01T14:09:45.087054",
          "status": "completed"
        },
        "tags": [],
        "id": "xXz1fcNtVZwj",
        "colab_type": "code",
        "colab": {}
      },
      "source": [
        "test_data.info()"
      ],
      "execution_count": null,
      "outputs": []
    },
    {
      "cell_type": "markdown",
      "metadata": {
        "papermill": {
          "duration": 0.039577,
          "end_time": "2020-09-01T14:09:45.468659",
          "exception": false,
          "start_time": "2020-09-01T14:09:45.429082",
          "status": "completed"
        },
        "tags": [],
        "id": "REJUG9bTVZwl",
        "colab_type": "text"
      },
      "source": [
        "# Model 2: CatBoostRegressor"
      ]
    },
    {
      "cell_type": "code",
      "metadata": {
        "execution": {
          "iopub.execute_input": "2020-09-01T14:09:45.621651Z",
          "iopub.status.busy": "2020-09-01T14:09:45.620648Z",
          "iopub.status.idle": "2020-09-01T14:09:45.664926Z",
          "shell.execute_reply": "2020-09-01T14:09:45.665827Z"
        },
        "papermill": {
          "duration": 0.086419,
          "end_time": "2020-09-01T14:09:45.666026",
          "exception": false,
          "start_time": "2020-09-01T14:09:45.579607",
          "status": "completed"
        },
        "tags": [],
        "id": "Db63OEOJVZwm",
        "colab_type": "code",
        "colab": {}
      },
      "source": [
        "X_train, X_test, y_train, y_test = train_test_split(X, y, test_size=0.15, shuffle=True, random_state=RANDOM_SEED)"
      ],
      "execution_count": null,
      "outputs": []
    },
    {
      "cell_type": "code",
      "metadata": {
        "_kg_hide-output": true,
        "execution": {
          "iopub.execute_input": "2020-09-01T14:09:45.753118Z",
          "iopub.status.busy": "2020-09-01T14:09:45.752084Z",
          "iopub.status.idle": "2020-09-01T14:10:21.526989Z",
          "shell.execute_reply": "2020-09-01T14:10:21.526033Z"
        },
        "papermill": {
          "duration": 35.823837,
          "end_time": "2020-09-01T14:10:21.527109",
          "exception": false,
          "start_time": "2020-09-01T14:09:45.703272",
          "status": "completed"
        },
        "tags": [],
        "id": "SgvUhnq1VZwo",
        "colab_type": "code",
        "colab": {}
      },
      "source": [
        "model = CatBoostRegressor(iterations = 5000,\n",
        "                          #depth=10,\n",
        "                          learning_rate = 0.06,\n",
        "                          random_seed = RANDOM_SEED,\n",
        "                          eval_metric='MAPE',\n",
        "                          custom_metric=['RMSE', 'MAE'],\n",
        "                          od_wait=500,\n",
        "                          #task_type='GPU',\n",
        "                         )\n",
        "model.fit(X_train, y_train,\n",
        "         eval_set=(X_test, y_test),\n",
        "         verbose_eval=100,\n",
        "         use_best_model=True,\n",
        "         #plot=True\n",
        "         )"
      ],
      "execution_count": null,
      "outputs": []
    },
    {
      "cell_type": "code",
      "metadata": {
        "execution": {
          "iopub.execute_input": "2020-09-01T14:10:21.615294Z",
          "iopub.status.busy": "2020-09-01T14:10:21.605018Z",
          "iopub.status.idle": "2020-09-01T14:10:21.641929Z",
          "shell.execute_reply": "2020-09-01T14:10:21.641333Z"
        },
        "papermill": {
          "duration": 0.087923,
          "end_time": "2020-09-01T14:10:21.642066",
          "exception": false,
          "start_time": "2020-09-01T14:10:21.554143",
          "status": "completed"
        },
        "tags": [],
        "id": "5pz5q5gCVZwr",
        "colab_type": "code",
        "colab": {}
      },
      "source": [
        "test_predict_catboost = model.predict(X_test)\n",
        "print(f\"TEST mape: {(mape(y_test, test_predict_catboost))*100:0.2f}%\")"
      ],
      "execution_count": null,
      "outputs": []
    },
    {
      "cell_type": "markdown",
      "metadata": {
        "papermill": {
          "duration": 0.027597,
          "end_time": "2020-09-01T14:10:21.699302",
          "exception": false,
          "start_time": "2020-09-01T14:10:21.671705",
          "status": "completed"
        },
        "tags": [],
        "id": "QASEqIY2VZwt",
        "colab_type": "text"
      },
      "source": [
        "### Submission"
      ]
    },
    {
      "cell_type": "code",
      "metadata": {
        "execution": {
          "iopub.execute_input": "2020-09-01T14:10:21.796032Z",
          "iopub.status.busy": "2020-09-01T14:10:21.785940Z",
          "iopub.status.idle": "2020-09-01T14:10:22.091216Z",
          "shell.execute_reply": "2020-09-01T14:10:22.090579Z"
        },
        "papermill": {
          "duration": 0.365066,
          "end_time": "2020-09-01T14:10:22.091344",
          "exception": false,
          "start_time": "2020-09-01T14:10:21.726278",
          "status": "completed"
        },
        "tags": [],
        "id": "0axqNFTAVZwt",
        "colab_type": "code",
        "colab": {}
      },
      "source": [
        "sub_predict_catboost = model.predict(X_sub)\n",
        "sample_submission['price'] = sub_predict_catboost\n",
        "sample_submission.to_csv(os.path.join(PATH,'submission',f'catboost_submission{ver}.csv'), index=False)"
      ],
      "execution_count": null,
      "outputs": []
    },
    {
      "cell_type": "markdown",
      "metadata": {
        "papermill": {
          "duration": 0.027558,
          "end_time": "2020-09-01T14:10:22.147347",
          "exception": false,
          "start_time": "2020-09-01T14:10:22.119789",
          "status": "completed"
        },
        "tags": [],
        "id": "oXmz8XQIVZwv",
        "colab_type": "text"
      },
      "source": [
        "# Model 3: Tabular NN"
      ]
    },
    {
      "cell_type": "markdown",
      "metadata": {
        "papermill": {
          "duration": 0.027905,
          "end_time": "2020-09-01T14:10:22.202926",
          "exception": false,
          "start_time": "2020-09-01T14:10:22.175021",
          "status": "completed"
        },
        "tags": [],
        "id": "LdqUi-RXVZww",
        "colab_type": "text"
      },
      "source": [
        "Построим обычную сеть:"
      ]
    },
    {
      "cell_type": "code",
      "metadata": {
        "execution": {
          "iopub.execute_input": "2020-09-01T14:10:22.265470Z",
          "iopub.status.busy": "2020-09-01T14:10:22.264606Z",
          "iopub.status.idle": "2020-09-01T14:10:22.288229Z",
          "shell.execute_reply": "2020-09-01T14:10:22.288853Z"
        },
        "papermill": {
          "duration": 0.05808,
          "end_time": "2020-09-01T14:10:22.289028",
          "exception": false,
          "start_time": "2020-09-01T14:10:22.230948",
          "status": "completed"
        },
        "tags": [],
        "id": "GW6mHmVgVZww",
        "colab_type": "code",
        "colab": {}
      },
      "source": [
        "X_train.head(5)"
      ],
      "execution_count": null,
      "outputs": []
    },
    {
      "cell_type": "markdown",
      "metadata": {
        "papermill": {
          "duration": 0.030566,
          "end_time": "2020-09-01T14:10:22.350880",
          "exception": false,
          "start_time": "2020-09-01T14:10:22.320314",
          "status": "completed"
        },
        "tags": [],
        "id": "9b-oN7_RVZwy",
        "colab_type": "text"
      },
      "source": [
        "## Simple Dense NN"
      ]
    },
    {
      "cell_type": "code",
      "metadata": {
        "execution": {
          "iopub.execute_input": "2020-09-01T14:10:22.421778Z",
          "iopub.status.busy": "2020-09-01T14:10:22.421050Z",
          "iopub.status.idle": "2020-09-01T14:10:25.642900Z",
          "shell.execute_reply": "2020-09-01T14:10:25.641675Z"
        },
        "papermill": {
          "duration": 3.25935,
          "end_time": "2020-09-01T14:10:25.643030",
          "exception": false,
          "start_time": "2020-09-01T14:10:22.383680",
          "status": "completed"
        },
        "tags": [],
        "id": "fTS9qAjKVZwy",
        "colab_type": "code",
        "colab": {}
      },
      "source": [
        "model = Sequential()\n",
        "model.add(L.Dense(512, input_dim=X_train.shape[1], activation=\"relu\"))\n",
        "model.add(L.Dropout(0.5))\n",
        "model.add(L.Dense(256, activation=\"relu\"))\n",
        "model.add(L.Dropout(0.5))\n",
        "model.add(L.Dense(1, activation=\"linear\"))"
      ],
      "execution_count": null,
      "outputs": []
    },
    {
      "cell_type": "code",
      "metadata": {
        "execution": {
          "iopub.execute_input": "2020-09-01T14:10:25.709604Z",
          "iopub.status.busy": "2020-09-01T14:10:25.708290Z",
          "iopub.status.idle": "2020-09-01T14:10:25.717462Z",
          "shell.execute_reply": "2020-09-01T14:10:25.718000Z"
        },
        "papermill": {
          "duration": 0.044855,
          "end_time": "2020-09-01T14:10:25.718162",
          "exception": false,
          "start_time": "2020-09-01T14:10:25.673307",
          "status": "completed"
        },
        "tags": [],
        "id": "d01Hd2J4VZw0",
        "colab_type": "code",
        "colab": {}
      },
      "source": [
        "model.summary()"
      ],
      "execution_count": null,
      "outputs": []
    },
    {
      "cell_type": "code",
      "metadata": {
        "execution": {
          "iopub.execute_input": "2020-09-01T14:10:25.789520Z",
          "iopub.status.busy": "2020-09-01T14:10:25.788174Z",
          "iopub.status.idle": "2020-09-01T14:10:25.796902Z",
          "shell.execute_reply": "2020-09-01T14:10:25.796325Z"
        },
        "papermill": {
          "duration": 0.050168,
          "end_time": "2020-09-01T14:10:25.797036",
          "exception": false,
          "start_time": "2020-09-01T14:10:25.746868",
          "status": "completed"
        },
        "tags": [],
        "id": "AEzrq0h5VZw1",
        "colab_type": "code",
        "colab": {}
      },
      "source": [
        "# Compile model\n",
        "optimizer = tf.keras.optimizers.Adam(0.01)\n",
        "model.compile(loss='MAPE',optimizer=optimizer, metrics=['MAPE'])"
      ],
      "execution_count": null,
      "outputs": []
    },
    {
      "cell_type": "code",
      "metadata": {
        "execution": {
          "iopub.execute_input": "2020-09-01T14:10:25.863694Z",
          "iopub.status.busy": "2020-09-01T14:10:25.862842Z",
          "iopub.status.idle": "2020-09-01T14:10:25.867096Z",
          "shell.execute_reply": "2020-09-01T14:10:25.866180Z"
        },
        "papermill": {
          "duration": 0.040282,
          "end_time": "2020-09-01T14:10:25.867220",
          "exception": false,
          "start_time": "2020-09-01T14:10:25.826938",
          "status": "completed"
        },
        "tags": [],
        "id": "xQrtCjvkVZw3",
        "colab_type": "code",
        "colab": {}
      },
      "source": [
        "checkpoint = ModelCheckpoint(os.path.join(PATH,'working',f'best_model{ver}.hdf5') , monitor='val_MAPE', verbose=1  , mode='min', save_best_only = True)\n",
        "earlystop = EarlyStopping(monitor='val_MAPE', patience=50, restore_best_weights=True,)\n",
        "callbacks_list = [checkpoint, earlystop]"
      ],
      "execution_count": null,
      "outputs": []
    },
    {
      "cell_type": "markdown",
      "metadata": {
        "papermill": {
          "duration": 0.029191,
          "end_time": "2020-09-01T14:10:25.926347",
          "exception": false,
          "start_time": "2020-09-01T14:10:25.897156",
          "status": "completed"
        },
        "tags": [],
        "id": "K6emJCMiVZw4",
        "colab_type": "text"
      },
      "source": [
        "### Fit"
      ]
    },
    {
      "cell_type": "code",
      "metadata": {
        "execution": {
          "iopub.execute_input": "2020-09-01T14:10:25.991852Z",
          "iopub.status.busy": "2020-09-01T14:10:25.991007Z",
          "iopub.status.idle": "2020-09-01T14:11:43.553409Z",
          "shell.execute_reply": "2020-09-01T14:11:43.552223Z"
        },
        "papermill": {
          "duration": 77.597865,
          "end_time": "2020-09-01T14:11:43.553548",
          "exception": false,
          "start_time": "2020-09-01T14:10:25.955683",
          "status": "completed"
        },
        "tags": [],
        "id": "ZonIJrIpVZw5",
        "colab_type": "code",
        "colab": {}
      },
      "source": [
        "%%time\n",
        "history = model.fit(X_train, y_train,\n",
        "                    batch_size=512,\n",
        "                    epochs=500, # фактически мы обучаем пока EarlyStopping не остановит обучение\n",
        "                    validation_data=(X_test, y_test),\n",
        "                    callbacks=callbacks_list,\n",
        "                    verbose=1,\n",
        "                   )"
      ],
      "execution_count": null,
      "outputs": []
    },
    {
      "cell_type": "code",
      "metadata": {
        "execution": {
          "iopub.execute_input": "2020-09-01T14:11:43.632612Z",
          "iopub.status.busy": "2020-09-01T14:11:43.631443Z",
          "iopub.status.idle": "2020-09-01T14:11:43.786610Z",
          "shell.execute_reply": "2020-09-01T14:11:43.787196Z"
        },
        "papermill": {
          "duration": 0.202281,
          "end_time": "2020-09-01T14:11:43.787384",
          "exception": false,
          "start_time": "2020-09-01T14:11:43.585103",
          "status": "completed"
        },
        "tags": [],
        "id": "8xxFMGFfVZw7",
        "colab_type": "code",
        "colab": {}
      },
      "source": [
        "plt.title('Loss')\n",
        "plt.plot(history.history['MAPE'], label='train')\n",
        "plt.plot(history.history['val_MAPE'], label='test')\n",
        "plt.show();"
      ],
      "execution_count": null,
      "outputs": []
    },
    {
      "cell_type": "code",
      "metadata": {
        "execution": {
          "iopub.execute_input": "2020-09-01T14:11:45.086779Z",
          "iopub.status.busy": "2020-09-01T14:11:45.085421Z",
          "iopub.status.idle": "2020-09-01T14:11:45.127108Z",
          "shell.execute_reply": "2020-09-01T14:11:45.126445Z"
        },
        "papermill": {
          "duration": 1.302201,
          "end_time": "2020-09-01T14:11:45.127228",
          "exception": false,
          "start_time": "2020-09-01T14:11:43.825027",
          "status": "completed"
        },
        "tags": [],
        "id": "o9vzuhWHVZw8",
        "colab_type": "code",
        "colab": {}
      },
      "source": [
        "model.load_weights(os.path.join(PATH,'working',f'best_model{ver}.hdf5'))\n",
        "model.save(os.path.join(PATH,'working',f'nn_1_{ver}.hdf5'))"
      ],
      "execution_count": null,
      "outputs": []
    },
    {
      "cell_type": "code",
      "metadata": {
        "execution": {
          "iopub.execute_input": "2020-09-01T14:11:45.202679Z",
          "iopub.status.busy": "2020-09-01T14:11:45.201599Z",
          "iopub.status.idle": "2020-09-01T14:11:45.390571Z",
          "shell.execute_reply": "2020-09-01T14:11:45.389905Z"
        },
        "papermill": {
          "duration": 0.229139,
          "end_time": "2020-09-01T14:11:45.390707",
          "exception": false,
          "start_time": "2020-09-01T14:11:45.161568",
          "status": "completed"
        },
        "tags": [],
        "id": "hyWc28coVZw-",
        "colab_type": "code",
        "colab": {}
      },
      "source": [
        "test_predict_nn1 = model.predict(X_test)\n",
        "print(f\"TEST mape: {(mape(y_test, test_predict_nn1[:,0]))*100:0.2f}%\")"
      ],
      "execution_count": null,
      "outputs": []
    },
    {
      "cell_type": "code",
      "metadata": {
        "execution": {
          "iopub.execute_input": "2020-09-01T14:11:45.472881Z",
          "iopub.status.busy": "2020-09-01T14:11:45.471724Z",
          "iopub.status.idle": "2020-09-01T14:11:45.617108Z",
          "shell.execute_reply": "2020-09-01T14:11:45.615875Z"
        },
        "papermill": {
          "duration": 0.188737,
          "end_time": "2020-09-01T14:11:45.617263",
          "exception": false,
          "start_time": "2020-09-01T14:11:45.428526",
          "status": "completed"
        },
        "tags": [],
        "id": "Vpoat058VZxA",
        "colab_type": "code",
        "colab": {}
      },
      "source": [
        "sub_predict_nn1 = model.predict(X_sub)\n",
        "sample_submission['price'] = sub_predict_nn1[:,0]\n",
        "sample_submission.to_csv(os.path.join(PATH,'submission',f'nn1_submission_{ver}.csv'), index=False)"
      ],
      "execution_count": null,
      "outputs": []
    },
    {
      "cell_type": "markdown",
      "metadata": {
        "papermill": {
          "duration": 0.033475,
          "end_time": "2020-09-01T14:11:45.685383",
          "exception": false,
          "start_time": "2020-09-01T14:11:45.651908",
          "status": "completed"
        },
        "tags": [],
        "id": "YzQBlIlJVZxB",
        "colab_type": "text"
      },
      "source": [
        "Рекомендации для улучшения Model 3:    \n",
        "* В нейросеть желательно подавать данные с распределением, близким к нормальному, поэтому от некоторых числовых признаков имеет смысл взять логарифм перед нормализацией. Пример:\n",
        "`modelDateNorm = np.log(2020 - data['modelDate'])`\n",
        "Статья по теме: https://habr.com/ru/company/ods/blog/325422\n",
        "\n",
        "* Извлечение числовых значений из текста:\n",
        "Парсинг признаков 'engineDisplacement', 'enginePower', 'Владение' для извлечения числовых значений.\n",
        "\n",
        "* Cокращение размерности категориальных признаков\n",
        "Признак name 'name' содержит данные, которые уже есть в других столбцах ('enginePower', 'engineDisplacement', 'vehicleTransmission'), поэтому эти данные можно удалить. Затем следует еще сильнее сократить размерность, например, выделив наличие xDrive в качестве отдельного признака."
      ]
    },
    {
      "cell_type": "markdown",
      "metadata": {
        "papermill": {
          "duration": 0.032357,
          "end_time": "2020-09-01T14:11:45.751593",
          "exception": false,
          "start_time": "2020-09-01T14:11:45.719236",
          "status": "completed"
        },
        "tags": [],
        "id": "h3c5x2mDVZxC",
        "colab_type": "text"
      },
      "source": [
        "# Model 4: NLP + Multiple Inputs"
      ]
    },
    {
      "cell_type": "code",
      "metadata": {
        "execution": {
          "iopub.execute_input": "2020-09-01T14:11:45.827949Z",
          "iopub.status.busy": "2020-09-01T14:11:45.826732Z",
          "iopub.status.idle": "2020-09-01T14:11:45.832760Z",
          "shell.execute_reply": "2020-09-01T14:11:45.832156Z"
        },
        "papermill": {
          "duration": 0.047533,
          "end_time": "2020-09-01T14:11:45.832877",
          "exception": false,
          "start_time": "2020-09-01T14:11:45.785344",
          "status": "completed"
        },
        "tags": [],
        "id": "c77OMtJuVZxC",
        "colab_type": "code",
        "colab": {}
      },
      "source": [
        "data.description"
      ],
      "execution_count": null,
      "outputs": []
    },
    {
      "cell_type": "code",
      "metadata": {
        "execution": {
          "iopub.execute_input": "2020-09-01T14:11:45.906171Z",
          "iopub.status.busy": "2020-09-01T14:11:45.905339Z",
          "iopub.status.idle": "2020-09-01T14:11:45.909971Z",
          "shell.execute_reply": "2020-09-01T14:11:45.909376Z"
        },
        "papermill": {
          "duration": 0.043718,
          "end_time": "2020-09-01T14:11:45.910100",
          "exception": false,
          "start_time": "2020-09-01T14:11:45.866382",
          "status": "completed"
        },
        "tags": [],
        "id": "YIfBnkolVZxE",
        "colab_type": "code",
        "colab": {}
      },
      "source": [
        "# TOKENIZER\n",
        "# The maximum number of words to be used. (most frequent)\n",
        "MAX_WORDS = 100000\n",
        "# Max number of words in each complaint.\n",
        "MAX_SEQUENCE_LENGTH = 256"
      ],
      "execution_count": null,
      "outputs": []
    },
    {
      "cell_type": "code",
      "metadata": {
        "execution": {
          "iopub.execute_input": "2020-09-01T14:11:45.984095Z",
          "iopub.status.busy": "2020-09-01T14:11:45.981434Z",
          "iopub.status.idle": "2020-09-01T14:11:45.988431Z",
          "shell.execute_reply": "2020-09-01T14:11:45.987786Z"
        },
        "papermill": {
          "duration": 0.045338,
          "end_time": "2020-09-01T14:11:45.988552",
          "exception": false,
          "start_time": "2020-09-01T14:11:45.943214",
          "status": "completed"
        },
        "tags": [],
        "id": "LO6iUw8DVZxG",
        "colab_type": "code",
        "colab": {}
      },
      "source": [
        "# split данных\n",
        "text_train = data.description.iloc[X_train.index]\n",
        "text_test = data.description.iloc[X_test.index]\n",
        "text_sub = data.description.iloc[X_sub.index]"
      ],
      "execution_count": null,
      "outputs": []
    },
    {
      "cell_type": "markdown",
      "metadata": {
        "papermill": {
          "duration": 0.033994,
          "end_time": "2020-09-01T14:11:46.057553",
          "exception": false,
          "start_time": "2020-09-01T14:11:46.023559",
          "status": "completed"
        },
        "tags": [],
        "id": "OiMJJGmZVZxH",
        "colab_type": "text"
      },
      "source": [
        "### Tokenizer"
      ]
    },
    {
      "cell_type": "code",
      "metadata": {
        "execution": {
          "iopub.execute_input": "2020-09-01T14:11:46.177162Z",
          "iopub.status.busy": "2020-09-01T14:11:46.146191Z",
          "iopub.status.idle": "2020-09-01T14:11:48.294160Z",
          "shell.execute_reply": "2020-09-01T14:11:48.294900Z"
        },
        "papermill": {
          "duration": 2.201902,
          "end_time": "2020-09-01T14:11:48.295050",
          "exception": false,
          "start_time": "2020-09-01T14:11:46.093148",
          "status": "completed"
        },
        "tags": [],
        "id": "b2d5jyUKVZxI",
        "colab_type": "code",
        "colab": {}
      },
      "source": [
        "%%time\n",
        "tokenize = Tokenizer(num_words=MAX_WORDS)\n",
        "tokenize.fit_on_texts(data.description)"
      ],
      "execution_count": null,
      "outputs": []
    },
    {
      "cell_type": "code",
      "metadata": {
        "_kg_hide-output": true,
        "execution": {
          "iopub.execute_input": "2020-09-01T14:11:48.381361Z",
          "iopub.status.busy": "2020-09-01T14:11:48.371081Z",
          "iopub.status.idle": "2020-09-01T14:11:48.410103Z",
          "shell.execute_reply": "2020-09-01T14:11:48.410578Z"
        },
        "papermill": {
          "duration": 0.084152,
          "end_time": "2020-09-01T14:11:48.410715",
          "exception": false,
          "start_time": "2020-09-01T14:11:48.326563",
          "status": "completed"
        },
        "tags": [],
        "id": "9rt0Xz70VZxK",
        "colab_type": "code",
        "colab": {}
      },
      "source": [
        "tokenize.word_index"
      ],
      "execution_count": null,
      "outputs": []
    },
    {
      "cell_type": "code",
      "metadata": {
        "execution": {
          "iopub.execute_input": "2020-09-01T14:11:48.506129Z",
          "iopub.status.busy": "2020-09-01T14:11:48.485240Z",
          "iopub.status.idle": "2020-09-01T14:11:50.307113Z",
          "shell.execute_reply": "2020-09-01T14:11:50.307869Z"
        },
        "papermill": {
          "duration": 1.86368,
          "end_time": "2020-09-01T14:11:50.308073",
          "exception": false,
          "start_time": "2020-09-01T14:11:48.444393",
          "status": "completed"
        },
        "tags": [],
        "id": "R4zKpHgsVZxM",
        "colab_type": "code",
        "colab": {}
      },
      "source": [
        "%%time\n",
        "text_train_sequences = sequence.pad_sequences(tokenize.texts_to_sequences(text_train), maxlen=MAX_SEQUENCE_LENGTH)\n",
        "text_test_sequences = sequence.pad_sequences(tokenize.texts_to_sequences(text_test), maxlen=MAX_SEQUENCE_LENGTH)\n",
        "text_sub_sequences = sequence.pad_sequences(tokenize.texts_to_sequences(text_sub), maxlen=MAX_SEQUENCE_LENGTH)\n",
        "\n",
        "print(text_train_sequences.shape, text_test_sequences.shape, text_sub_sequences.shape, )"
      ],
      "execution_count": null,
      "outputs": []
    },
    {
      "cell_type": "code",
      "metadata": {
        "execution": {
          "iopub.execute_input": "2020-09-01T14:11:50.392503Z",
          "iopub.status.busy": "2020-09-01T14:11:50.391701Z",
          "iopub.status.idle": "2020-09-01T14:11:50.402823Z",
          "shell.execute_reply": "2020-09-01T14:11:50.402241Z"
        },
        "papermill": {
          "duration": 0.055862,
          "end_time": "2020-09-01T14:11:50.402953",
          "exception": false,
          "start_time": "2020-09-01T14:11:50.347091",
          "status": "completed"
        },
        "tags": [],
        "id": "Cbg85HcRVZxO",
        "colab_type": "code",
        "colab": {}
      },
      "source": [
        "# вот так теперь выглядит наш текст\n",
        "print(text_train.iloc[6])\n",
        "print(text_train_sequences[6])"
      ],
      "execution_count": null,
      "outputs": []
    },
    {
      "cell_type": "markdown",
      "metadata": {
        "papermill": {
          "duration": 0.034241,
          "end_time": "2020-09-01T14:11:50.471901",
          "exception": false,
          "start_time": "2020-09-01T14:11:50.437660",
          "status": "completed"
        },
        "tags": [],
        "id": "vkQd_tElVZxP",
        "colab_type": "text"
      },
      "source": [
        "### RNN NLP"
      ]
    },
    {
      "cell_type": "code",
      "metadata": {
        "execution": {
          "iopub.execute_input": "2020-09-01T14:11:50.553936Z",
          "iopub.status.busy": "2020-09-01T14:11:50.552895Z",
          "iopub.status.idle": "2020-09-01T14:11:51.420909Z",
          "shell.execute_reply": "2020-09-01T14:11:51.419660Z"
        },
        "papermill": {
          "duration": 0.913169,
          "end_time": "2020-09-01T14:11:51.421043",
          "exception": false,
          "start_time": "2020-09-01T14:11:50.507874",
          "status": "completed"
        },
        "tags": [],
        "id": "uMjtl-t_VZxP",
        "colab_type": "code",
        "colab": {}
      },
      "source": [
        "model_nlp = Sequential()\n",
        "model_nlp.add(L.Input(shape=MAX_SEQUENCE_LENGTH, name=\"seq_description\"))\n",
        "model_nlp.add(L.Embedding(len(tokenize.word_index)+1, MAX_SEQUENCE_LENGTH,))\n",
        "model_nlp.add(L.LSTM(256, return_sequences=True))\n",
        "model_nlp.add(L.Dropout(0.5))\n",
        "model_nlp.add(L.LSTM(128,))\n",
        "model_nlp.add(L.Dropout(0.25))\n",
        "model_nlp.add(L.Dense(64, activation=\"relu\"))\n",
        "model_nlp.add(L.Dropout(0.25))"
      ],
      "execution_count": null,
      "outputs": []
    },
    {
      "cell_type": "markdown",
      "metadata": {
        "papermill": {
          "duration": 0.033439,
          "end_time": "2020-09-01T14:11:51.487992",
          "exception": false,
          "start_time": "2020-09-01T14:11:51.454553",
          "status": "completed"
        },
        "tags": [],
        "id": "Ll2oOerUVZxQ",
        "colab_type": "text"
      },
      "source": [
        "### MLP"
      ]
    },
    {
      "cell_type": "code",
      "metadata": {
        "execution": {
          "iopub.execute_input": "2020-09-01T14:11:51.564624Z",
          "iopub.status.busy": "2020-09-01T14:11:51.563549Z",
          "iopub.status.idle": "2020-09-01T14:11:51.605720Z",
          "shell.execute_reply": "2020-09-01T14:11:51.605147Z"
        },
        "papermill": {
          "duration": 0.083164,
          "end_time": "2020-09-01T14:11:51.605869",
          "exception": false,
          "start_time": "2020-09-01T14:11:51.522705",
          "status": "completed"
        },
        "tags": [],
        "id": "lUe1JOyxVZxR",
        "colab_type": "code",
        "colab": {}
      },
      "source": [
        "model_mlp = Sequential()\n",
        "model_mlp.add(L.Dense(512, input_dim=X_train.shape[1], activation=\"relu\"))\n",
        "model_mlp.add(L.Dropout(0.5))\n",
        "model_mlp.add(L.Dense(256, activation=\"relu\"))\n",
        "model_mlp.add(L.Dropout(0.5))"
      ],
      "execution_count": null,
      "outputs": []
    },
    {
      "cell_type": "markdown",
      "metadata": {
        "papermill": {
          "duration": 0.0336,
          "end_time": "2020-09-01T14:11:51.674401",
          "exception": false,
          "start_time": "2020-09-01T14:11:51.640801",
          "status": "completed"
        },
        "tags": [],
        "id": "MT4WAU_uVZxS",
        "colab_type": "text"
      },
      "source": [
        "### Multiple Inputs NN"
      ]
    },
    {
      "cell_type": "code",
      "metadata": {
        "execution": {
          "iopub.execute_input": "2020-09-01T14:11:51.750608Z",
          "iopub.status.busy": "2020-09-01T14:11:51.749595Z",
          "iopub.status.idle": "2020-09-01T14:11:51.779046Z",
          "shell.execute_reply": "2020-09-01T14:11:51.778385Z"
        },
        "papermill": {
          "duration": 0.071993,
          "end_time": "2020-09-01T14:11:51.779177",
          "exception": false,
          "start_time": "2020-09-01T14:11:51.707184",
          "status": "completed"
        },
        "tags": [],
        "id": "2zRzyT07VZxS",
        "colab_type": "code",
        "colab": {}
      },
      "source": [
        "combinedInput = L.concatenate([model_nlp.output, model_mlp.output])\n",
        "# being our regression head\n",
        "head = L.Dense(64, activation=\"relu\")(combinedInput)\n",
        "head = L.Dense(1, activation=\"linear\")(head)\n",
        "\n",
        "model = Model(inputs=[model_nlp.input, model_mlp.input], outputs=head)"
      ],
      "execution_count": null,
      "outputs": []
    },
    {
      "cell_type": "code",
      "metadata": {
        "_kg_hide-output": true,
        "execution": {
          "iopub.execute_input": "2020-09-01T14:11:51.854564Z",
          "iopub.status.busy": "2020-09-01T14:11:51.852636Z",
          "iopub.status.idle": "2020-09-01T14:11:51.870197Z",
          "shell.execute_reply": "2020-09-01T14:11:51.869613Z"
        },
        "papermill": {
          "duration": 0.057955,
          "end_time": "2020-09-01T14:11:51.870318",
          "exception": false,
          "start_time": "2020-09-01T14:11:51.812363",
          "status": "completed"
        },
        "tags": [],
        "id": "9jGCxFHXVZxU",
        "colab_type": "code",
        "colab": {}
      },
      "source": [
        "model.summary()"
      ],
      "execution_count": null,
      "outputs": []
    },
    {
      "cell_type": "markdown",
      "metadata": {
        "papermill": {
          "duration": 0.032759,
          "end_time": "2020-09-01T14:11:51.936714",
          "exception": false,
          "start_time": "2020-09-01T14:11:51.903955",
          "status": "completed"
        },
        "tags": [],
        "id": "DDruwV_yVZxV",
        "colab_type": "text"
      },
      "source": [
        "### Fit"
      ]
    },
    {
      "cell_type": "code",
      "metadata": {
        "execution": {
          "iopub.execute_input": "2020-09-01T14:11:52.016818Z",
          "iopub.status.busy": "2020-09-01T14:11:52.015587Z",
          "iopub.status.idle": "2020-09-01T14:11:52.022693Z",
          "shell.execute_reply": "2020-09-01T14:11:52.022116Z"
        },
        "papermill": {
          "duration": 0.053566,
          "end_time": "2020-09-01T14:11:52.022861",
          "exception": false,
          "start_time": "2020-09-01T14:11:51.969295",
          "status": "completed"
        },
        "tags": [],
        "id": "rwx3A4VdVZxW",
        "colab_type": "code",
        "colab": {}
      },
      "source": [
        "optimizer = tf.keras.optimizers.Adam(0.01)\n",
        "model.compile(loss='MAPE',optimizer=optimizer, metrics=['MAPE'])"
      ],
      "execution_count": null,
      "outputs": []
    },
    {
      "cell_type": "code",
      "metadata": {
        "execution": {
          "iopub.execute_input": "2020-09-01T14:11:52.097832Z",
          "iopub.status.busy": "2020-09-01T14:11:52.097001Z",
          "iopub.status.idle": "2020-09-01T14:11:52.101098Z",
          "shell.execute_reply": "2020-09-01T14:11:52.100477Z"
        },
        "papermill": {
          "duration": 0.04403,
          "end_time": "2020-09-01T14:11:52.101214",
          "exception": false,
          "start_time": "2020-09-01T14:11:52.057184",
          "status": "completed"
        },
        "tags": [],
        "id": "YAL8BmVeVZxX",
        "colab_type": "code",
        "colab": {}
      },
      "source": [
        "checkpoint = ModelCheckpoint(os.path.join(PATH,'working',f'best_model{ver}.hdf5'), monitor='val_MAPE', verbose=1, mode='min', save_best_only = True)\n",
        "earlystop = EarlyStopping(monitor='val_MAPE', patience=10, restore_best_weights=True,)\n",
        "callbacks_list = [checkpoint, earlystop]"
      ],
      "execution_count": null,
      "outputs": []
    },
    {
      "cell_type": "code",
      "metadata": {
        "_kg_hide-output": true,
        "execution": {
          "iopub.execute_input": "2020-09-01T14:11:52.177164Z",
          "iopub.status.busy": "2020-09-01T14:11:52.176070Z",
          "iopub.status.idle": "2020-09-01T14:23:54.473298Z",
          "shell.execute_reply": "2020-09-01T14:23:54.472720Z"
        },
        "papermill": {
          "duration": 722.337881,
          "end_time": "2020-09-01T14:23:54.473425",
          "exception": false,
          "start_time": "2020-09-01T14:11:52.135544",
          "status": "completed"
        },
        "tags": [],
        "id": "R-zV1jl6VZxY",
        "colab_type": "code",
        "colab": {}
      },
      "source": [
        "history = model.fit([text_train_sequences, X_train], y_train,\n",
        "                    batch_size=512,\n",
        "                    epochs=500, # фактически мы обучаем пока EarlyStopping не остановит обучение\n",
        "                    validation_data=([text_test_sequences, X_test], y_test),\n",
        "                    callbacks=callbacks_list\n",
        "                   )"
      ],
      "execution_count": null,
      "outputs": []
    },
    {
      "cell_type": "code",
      "metadata": {
        "execution": {
          "iopub.execute_input": "2020-09-01T14:23:54.781716Z",
          "iopub.status.busy": "2020-09-01T14:23:54.780563Z",
          "iopub.status.idle": "2020-09-01T14:23:54.943755Z",
          "shell.execute_reply": "2020-09-01T14:23:54.944248Z"
        },
        "papermill": {
          "duration": 0.319396,
          "end_time": "2020-09-01T14:23:54.944386",
          "exception": false,
          "start_time": "2020-09-01T14:23:54.624990",
          "status": "completed"
        },
        "tags": [],
        "id": "8z5pVU4UVZxa",
        "colab_type": "code",
        "colab": {}
      },
      "source": [
        "plt.title('Loss')\n",
        "plt.plot(history.history['MAPE'], label='train')\n",
        "plt.plot(history.history['val_MAPE'], label='test')\n",
        "plt.show();"
      ],
      "execution_count": null,
      "outputs": []
    },
    {
      "cell_type": "code",
      "metadata": {
        "execution": {
          "iopub.execute_input": "2020-09-01T14:23:55.314499Z",
          "iopub.status.busy": "2020-09-01T14:23:55.312333Z",
          "iopub.status.idle": "2020-09-01T14:23:55.758368Z",
          "shell.execute_reply": "2020-09-01T14:23:55.757011Z"
        },
        "papermill": {
          "duration": 0.664325,
          "end_time": "2020-09-01T14:23:55.758508",
          "exception": false,
          "start_time": "2020-09-01T14:23:55.094183",
          "status": "completed"
        },
        "tags": [],
        "id": "HWWfG47PVZxb",
        "colab_type": "code",
        "colab": {}
      },
      "source": [
        "model.load_weights(os.path.join(PATH,f'working',f'best_model{ver}.hdf5'))\n",
        "model.save(os.path.join(PATH,'working',f'nn_mlp_nlp_{ver}.hdf5'))"
      ],
      "execution_count": null,
      "outputs": []
    },
    {
      "cell_type": "code",
      "metadata": {
        "execution": {
          "iopub.execute_input": "2020-09-01T14:23:56.098782Z",
          "iopub.status.busy": "2020-09-01T14:23:56.097826Z",
          "iopub.status.idle": "2020-09-01T14:23:57.266778Z",
          "shell.execute_reply": "2020-09-01T14:23:57.265566Z"
        },
        "papermill": {
          "duration": 1.359968,
          "end_time": "2020-09-01T14:23:57.266972",
          "exception": false,
          "start_time": "2020-09-01T14:23:55.907004",
          "status": "completed"
        },
        "tags": [],
        "id": "sGGYKMJCVZxd",
        "colab_type": "code",
        "colab": {}
      },
      "source": [
        "test_predict_nn2 = model.predict([text_test_sequences, X_test])\n",
        "print(f\"TEST mape: {(mape(y_test, test_predict_nn2[:,0]))*100:0.2f}%\")"
      ],
      "execution_count": null,
      "outputs": []
    },
    {
      "cell_type": "code",
      "metadata": {
        "execution": {
          "iopub.execute_input": "2020-09-01T14:23:57.604062Z",
          "iopub.status.busy": "2020-09-01T14:23:57.603298Z",
          "iopub.status.idle": "2020-09-01T14:23:58.419271Z",
          "shell.execute_reply": "2020-09-01T14:23:58.418477Z"
        },
        "papermill": {
          "duration": 0.98727,
          "end_time": "2020-09-01T14:23:58.419392",
          "exception": false,
          "start_time": "2020-09-01T14:23:57.432122",
          "status": "completed"
        },
        "tags": [],
        "id": "PU1HM1qUVZxe",
        "colab_type": "code",
        "colab": {}
      },
      "source": [
        "sub_predict_nn2 = model.predict([text_sub_sequences, X_sub])\n",
        "sample_submission['price'] = sub_predict_nn2[:,0]\n",
        "sample_submission.to_csv(os.path.join(PATH,'submission',f'nn2_submission{ver}.csv'), index=False)"
      ],
      "execution_count": null,
      "outputs": []
    },
    {
      "cell_type": "markdown",
      "metadata": {
        "papermill": {
          "duration": 0.147273,
          "end_time": "2020-09-01T14:23:58.717361",
          "exception": false,
          "start_time": "2020-09-01T14:23:58.570088",
          "status": "completed"
        },
        "tags": [],
        "id": "OQtVbQ2xVZxg",
        "colab_type": "text"
      },
      "source": [
        "Идеи для улучшения NLP части:\n",
        "* Выделить из описаний часто встречающиеся блоки текста, заменив их на кодовые слова или удалив\n",
        "* Сделать предобработку текста, например, сделать лемматизацию - алгоритм ставящий все слова в форму по умолчанию (глаголы в инфинитив и т. д.), чтобы токенайзер не преобразовывал разные формы слова в разные числа\n",
        "Статья по теме: https://habr.com/ru/company/Voximplant/blog/446738/\n",
        "* Поработать над алгоритмами очистки и аугментации текста"
      ]
    },
    {
      "cell_type": "markdown",
      "metadata": {
        "papermill": {
          "duration": 0.152802,
          "end_time": "2020-09-01T14:23:59.019666",
          "exception": false,
          "start_time": "2020-09-01T14:23:58.866864",
          "status": "completed"
        },
        "tags": [],
        "id": "xQQA9IMIVZxg",
        "colab_type": "text"
      },
      "source": [
        "# Model 5: Добавляем картинки"
      ]
    },
    {
      "cell_type": "code",
      "metadata": {
        "id": "jrGoUDEcTVhr",
        "colab_type": "code",
        "colab": {}
      },
      "source": [
        "# what_is = os.listdir(DATA_DIR+'/img')\n",
        "# train.'sell_id'.map(lambda x: if  )"
      ],
      "execution_count": null,
      "outputs": []
    },
    {
      "cell_type": "markdown",
      "metadata": {
        "papermill": {
          "duration": 0.531608,
          "end_time": "2020-09-01T14:23:59.701222",
          "exception": false,
          "start_time": "2020-09-01T14:23:59.169614",
          "status": "completed"
        },
        "tags": [],
        "id": "bjfwnm47VZxg",
        "colab_type": "text"
      },
      "source": [
        "### Data"
      ]
    },
    {
      "cell_type": "code",
      "metadata": {
        "id": "P1CWM-4pcf6c",
        "colab_type": "code",
        "colab": {}
      },
      "source": [
        "print('Распаковываем картинки')\n",
        "# Will unzip the files so that you can see them..\n",
        "#for data_zip in ['img.zip']:\n",
        "with zipfile.ZipFile(DATA_DIR + '/img.zip',\"r\") as z:    \n",
        "        z.extractall(WORK_PATH)\n",
        "        \n",
        "print(os.listdir(WORK_PATH))"
      ],
      "execution_count": null,
      "outputs": []
    },
    {
      "cell_type": "code",
      "metadata": {
        "execution": {
          "iopub.execute_input": "2020-09-01T14:24:00.029550Z",
          "iopub.status.busy": "2020-09-01T14:24:00.028760Z",
          "iopub.status.idle": "2020-09-01T14:24:00.688591Z",
          "shell.execute_reply": "2020-09-01T14:24:00.689166Z"
        },
        "papermill": {
          "duration": 0.841346,
          "end_time": "2020-09-01T14:24:00.689310",
          "exception": false,
          "start_time": "2020-09-01T14:23:59.847964",
          "status": "completed"
        },
        "tags": [],
        "id": "QV_NjdApVZxg",
        "colab_type": "code",
        "colab": {}
      },
      "source": [
        "# убедимся, что цены и фото подгрузились верно\n",
        "plt.figure(figsize = (12,8))\n",
        "\n",
        "random_image = train.sample(n = 9)\n",
        "random_image_paths = random_image['sell_id'].values\n",
        "random_image_cat = random_image['price'].values\n",
        "\n",
        "for index, path_ in enumerate(random_image_paths):\n",
        "    im = PIL.Image.open(WORK_PATH + '/img/' + str(path_) + '.jpg')\n",
        "#        im = PIL.Image.open(DATA_DIR+'/img/' + str(path_) + '.jpg')\n",
        "    plt.subplot(3, 3, index + 1)\n",
        "    plt.imshow(im)\n",
        "    plt.title('price: ' + str(random_image_cat[index]))\n",
        "    plt.axis('off')\n",
        "plt.show()"
      ],
      "execution_count": null,
      "outputs": []
    },
    {
      "cell_type": "code",
      "metadata": {
        "execution": {
          "iopub.execute_input": "2020-09-01T14:24:01.048052Z",
          "iopub.status.busy": "2020-09-01T14:24:01.047369Z",
          "iopub.status.idle": "2020-09-01T14:25:24.240827Z",
          "shell.execute_reply": "2020-09-01T14:25:24.240256Z"
        },
        "papermill": {
          "duration": 83.399776,
          "end_time": "2020-09-01T14:25:24.240950",
          "exception": false,
          "start_time": "2020-09-01T14:24:00.841174",
          "status": "completed"
        },
        "tags": [],
        "id": "DdxT1OE4VZxi",
        "colab_type": "code",
        "colab": {}
      },
      "source": [
        "size = (320, 240)\n",
        "\n",
        "def get_image_array(index):\n",
        "    images_train = []\n",
        "    for index, sell_id in enumerate(data['sell_id'].iloc[index].values):\n",
        "        image = cv2.imread(WORK_PATH + '/img/' + str(sell_id) + '.jpg')\n",
        "  #              image = cv2.imread(DATA_DIR + '/img/' + str(sell_id) + '.jpg')\n",
        "        assert(image is not None)\n",
        "        image = cv2.resize(image, size)\n",
        "        images_train.append(image)\n",
        "    images_train = np.array(images_train)\n",
        "    print('images shape', images_train.shape, 'dtype', images_train.dtype)\n",
        "    return(images_train)\n",
        "\n",
        "images_train = get_image_array(X_train.index)\n",
        "images_test = get_image_array(X_test.index)\n",
        "images_sub = get_image_array(X_sub.index)"
      ],
      "execution_count": null,
      "outputs": []
    },
    {
      "cell_type": "markdown",
      "metadata": {
        "papermill": {
          "duration": 0.152804,
          "end_time": "2020-09-01T14:25:24.546653",
          "exception": false,
          "start_time": "2020-09-01T14:25:24.393849",
          "status": "completed"
        },
        "tags": [],
        "id": "VDk9VOZqVZxj",
        "colab_type": "text"
      },
      "source": [
        "### albumentations"
      ]
    },
    {
      "cell_type": "code",
      "metadata": {
        "execution": {
          "iopub.execute_input": "2020-09-01T14:25:24.871354Z",
          "iopub.status.busy": "2020-09-01T14:25:24.866652Z",
          "iopub.status.idle": "2020-09-01T14:25:25.832096Z",
          "shell.execute_reply": "2020-09-01T14:25:25.833013Z"
        },
        "papermill": {
          "duration": 1.132541,
          "end_time": "2020-09-01T14:25:25.833211",
          "exception": false,
          "start_time": "2020-09-01T14:25:24.700670",
          "status": "completed"
        },
        "tags": [],
        "id": "_KA8pJUQVZxj",
        "colab_type": "code",
        "colab": {}
      },
      "source": [
        "from albumentations import (\n",
        "    HorizontalFlip, IAAPerspective, ShiftScaleRotate, CLAHE, RandomRotate90,\n",
        "    Transpose, ShiftScaleRotate, Blur, OpticalDistortion, GridDistortion, HueSaturationValue,\n",
        "    IAAAdditiveGaussianNoise, GaussNoise, MotionBlur, MedianBlur, IAAPiecewiseAffine,\n",
        "    IAASharpen, IAAEmboss, RandomBrightnessContrast, Flip, OneOf, Compose\n",
        ")\n",
        "\n",
        "\n",
        "#пример взят из официальной документации: https://albumentations.readthedocs.io/en/latest/examples.html\n",
        "augmentation = Compose([\n",
        "    HorizontalFlip(),\n",
        "    OneOf([\n",
        "        IAAAdditiveGaussianNoise(),\n",
        "        GaussNoise(),\n",
        "    ], p=0.2),\n",
        "    OneOf([\n",
        "        MotionBlur(p=0.2),\n",
        "        MedianBlur(blur_limit=3, p=0.1),\n",
        "        Blur(blur_limit=3, p=0.1),\n",
        "    ], p=0.2),\n",
        "   # ShiftScaleRotate(shift_limit=0.0625, scale_limit=0.2, rotate_limit=15, p=1), #0.1\n",
        "    ShiftScaleRotate(shift_limit=0.0625, scale_limit=0.2, rotate_limit=15,border_mode=cv2.BORDER_REPLICATE,p=1),\n",
        "    OneOf([\n",
        "        OpticalDistortion(p=0.3),\n",
        "        GridDistortion(p=0.1),\n",
        "     #   IAAPiecewiseAffine(p=0.3),\n",
        "    ], p=0.2),\n",
        "    OneOf([\n",
        "        CLAHE(clip_limit=2),\n",
        "        IAASharpen(),\n",
        "        IAAEmboss(),\n",
        "        RandomBrightnessContrast(),\n",
        "    ], p=0.3),\n",
        "    HueSaturationValue(p=0.3),\n",
        "], p=1)\n",
        "\n",
        "#пример\n",
        "plt.figure(figsize = (12,8))\n",
        "for i in range(9):\n",
        "    img = augmentation(image = images_train[1])['image']\n",
        "    plt.subplot(3, 3, i + 1)\n",
        "    plt.imshow(img)\n",
        "    plt.axis('off')\n",
        "plt.show()"
      ],
      "execution_count": null,
      "outputs": []
    },
    {
      "cell_type": "code",
      "metadata": {
        "id": "Hs4S90gEJHSz",
        "colab_type": "code",
        "colab": {}
      },
      "source": [
        "\n",
        "# #пример взят из официальной документации: https://albumentations.readthedocs.io/en/latest/examples.html\n",
        "# augmentation = Compose([\n",
        "#     #HorizontalFlip(),\n",
        "#     #OneOf([IAAAdditiveGaussianNoise(), GaussNoise(), ], p=1),\n",
        "#     #OneOf([MotionBlur(p=0.2), MedianBlur(blur_limit=3, p=0.1),Blur(blur_limit=3, p=0.1),], p=0.2),\n",
        "#     #ShiftScaleRotate(shift_limit=0.0625, scale_limit=0.1, rotate_limit=15,border_mode=cv2.BORDER_REPLICATE, p=1),\n",
        "#    # OneOf([OpticalDistortion(p=0.3), GridDistortion(p=0.1), IAAPiecewiseAffine(p=0.3),  ], p=1),\n",
        "#     OneOf([OpticalDistortion(p=0.3), GridDistortion(p=0.1),  ], p=1),\n",
        "#     #OneOf([ CLAHE(clip_limit=2), IAASharpen(), IAAEmboss(),RandomBrightnessContrast(), ], p=0.3),\n",
        "#     #HueSaturationValue(p=0.3),\n",
        "#     ], p=1)\n",
        "\n",
        "# #пример\n",
        "# plt.figure(figsize = (12,8))\n",
        "# for i in range(9):\n",
        "#     img_1 = images_train[0]\n",
        "#     img = augmentation(image = img_1)['image']\n",
        "    \n",
        "#     plt.subplot(3, 3, i + 1)\n",
        "#     plt.imshow(img)\n",
        "#     plt.axis('off')\n",
        "# plt.show()\n",
        "\n"
      ],
      "execution_count": null,
      "outputs": []
    },
    {
      "cell_type": "code",
      "metadata": {
        "execution": {
          "iopub.execute_input": "2020-09-01T14:25:26.172778Z",
          "iopub.status.busy": "2020-09-01T14:25:26.170843Z",
          "iopub.status.idle": "2020-09-01T14:25:26.173454Z",
          "shell.execute_reply": "2020-09-01T14:25:26.173985Z"
        },
        "papermill": {
          "duration": 0.173118,
          "end_time": "2020-09-01T14:25:26.174134",
          "exception": false,
          "start_time": "2020-09-01T14:25:26.001016",
          "status": "completed"
        },
        "tags": [],
        "id": "BtiGzl6VVZxl",
        "colab_type": "code",
        "colab": {}
      },
      "source": [
        "def make_augmentations(images):\n",
        "  print('применение аугментаций', end = '')\n",
        "  augmented_images = np.empty(images.shape)\n",
        "  for i in range(images.shape[0]):\n",
        "    if i % 200 == 0:\n",
        "      print('.', end = '')\n",
        "    augment_dict = augmentation(image = images[i])\n",
        "    augmented_image = augment_dict['image']\n",
        "    augmented_images[i] = augmented_image\n",
        "  print('')\n",
        "  return augmented_images"
      ],
      "execution_count": null,
      "outputs": []
    },
    {
      "cell_type": "markdown",
      "metadata": {
        "papermill": {
          "duration": 0.158023,
          "end_time": "2020-09-01T14:25:26.491373",
          "exception": false,
          "start_time": "2020-09-01T14:25:26.333350",
          "status": "completed"
        },
        "tags": [],
        "id": "Xqx1kOMsVZxm",
        "colab_type": "text"
      },
      "source": [
        "## tf.data.Dataset\n",
        "Если все изображения мы будем хранить в памяти, то может возникнуть проблема ее нехватки. Не храните все изображения в памяти целиком!\n",
        "\n",
        "Метод .fit() модели keras может принимать либо данные в виде массивов или тензоров, либо разного рода итераторы, из которых наиболее современным и гибким является [tf.data.Dataset](https://www.tensorflow.org/guide/data). Он представляет собой конвейер, то есть мы указываем, откуда берем данные и какую цепочку преобразований с ними выполняем. Далее мы будем работать с tf.data.Dataset.\n",
        "\n",
        "Dataset хранит информацию о конечном или бесконечном наборе кортежей (tuple) с данными и может возвращать эти наборы по очереди. Например, данными могут быть пары (input, target) для обучения нейросети. С данными можно осуществлять преобразования, которые осуществляются по мере необходимости ([lazy evaluation](https://ru.wikipedia.org/wiki/%D0%9B%D0%B5%D0%BD%D0%B8%D0%B2%D1%8B%D0%B5_%D0%B2%D1%8B%D1%87%D0%B8%D1%81%D0%BB%D0%B5%D0%BD%D0%B8%D1%8F)).\n",
        "\n",
        "`tf.data.Dataset.from_tensor_slices(data)` - создает датасет из данных, которые представляют собой либо массив, либо кортеж из массивов. Деление осуществляется по первому индексу каждого массива. Например, если `data = (np.zeros((128, 256, 256)), np.zeros(128))`, то датасет будет содержать 128 элементов, каждый из которых содержит один массив 256x256 и одно число.\n",
        "\n",
        "`dataset2 = dataset1.map(func)` - применение функции к датасету; функция должна принимать столько аргументов, каков размер кортежа в датасете 1 и возвращать столько, сколько нужно иметь в датасете 2. Пусть, например, датасет содержит изображения и метки, а нам нужно создать датасет только из изображений, тогда мы напишем так: `dataset2 = dataset.map(lambda img, label: img)`.\n",
        "\n",
        "`dataset2 = dataset1.batch(8)` - группировка по батчам; если датасет 2 должен вернуть один элемент, то он берет из датасета 1 восемь элементов, склеивает их (нулевой индекс результата - номер элемента) и возвращает.\n",
        "\n",
        "`dataset.__iter__()` - превращение датасета в итератор, из которого можно получать элементы методом `.__next__()`. Итератор, в отличие от самого датасета, хранит позицию текущего элемента. Можно также перебирать датасет циклом for.\n",
        "\n",
        "`dataset2 = dataset1.repeat(X)` - датасет 2 будет повторять датасет 1 X раз.\n",
        "\n",
        "Если нам нужно взять из датасета 1000 элементов и использовать их как тестовые, а остальные как обучающие, то мы напишем так:\n",
        "\n",
        "`test_dataset = dataset.take(1000)\n",
        "train_dataset = dataset.skip(1000)`\n",
        "\n",
        "Датасет по сути неизменен: такие операции, как map, batch, repeat, take, skip никак не затрагивают оригинальный датасет. Если датасет хранит элементы [1, 2, 3], то выполнив 3 раза подряд функцию dataset.take(1) мы получим 3 новых датасета, каждый из которых вернет число 1. Если же мы выполним функцию dataset.skip(1), мы получим датасет, возвращающий числа [2, 3], но исходный датасет все равно будет возвращать [1, 2, 3] каждый раз, когда мы его перебираем.\n",
        "\n",
        "tf.Dataset всегда выполняется в graph-режиме (в противоположность eager-режиму), поэтому либо преобразования (`.map()`) должны содержать только tensorflow-функции, либо мы должны использовать tf.py_function в качестве обертки для функций, вызываемых в `.map()`. Подробнее можно прочитать [здесь](https://www.tensorflow.org/guide/data#applying_arbitrary_python_logic)."
      ]
    },
    {
      "cell_type": "code",
      "metadata": {
        "execution": {
          "iopub.execute_input": "2020-09-01T14:25:26.882583Z",
          "iopub.status.busy": "2020-09-01T14:25:26.872336Z",
          "iopub.status.idle": "2020-09-01T14:25:29.275423Z",
          "shell.execute_reply": "2020-09-01T14:25:29.274478Z"
        },
        "papermill": {
          "duration": 2.623146,
          "end_time": "2020-09-01T14:25:29.275565",
          "exception": false,
          "start_time": "2020-09-01T14:25:26.652419",
          "status": "completed"
        },
        "tags": [],
        "id": "8HdYTNohVZxn",
        "colab_type": "code",
        "colab": {}
      },
      "source": [
        "# NLP part\n",
        "tokenize = Tokenizer(num_words=MAX_WORDS)\n",
        "tokenize.fit_on_texts(data.description)"
      ],
      "execution_count": null,
      "outputs": []
    },
    {
      "cell_type": "code",
      "metadata": {
        "execution": {
          "iopub.execute_input": "2020-09-01T14:25:30.598865Z",
          "iopub.status.busy": "2020-09-01T14:25:29.616954Z",
          "iopub.status.idle": "2020-09-01T14:25:39.003504Z",
          "shell.execute_reply": "2020-09-01T14:25:39.004935Z"
        },
        "papermill": {
          "duration": 9.570665,
          "end_time": "2020-09-01T14:25:39.005168",
          "exception": false,
          "start_time": "2020-09-01T14:25:29.434503",
          "status": "completed"
        },
        "tags": [],
        "id": "zHbsz0AIVZxo",
        "colab_type": "code",
        "colab": {}
      },
      "source": [
        "def process_image(image):\n",
        "    return augmentation(image = image.numpy())['image']\n",
        "\n",
        "def tokenize_(descriptions):\n",
        "  return sequence.pad_sequences(tokenize.texts_to_sequences(descriptions), maxlen = MAX_SEQUENCE_LENGTH)\n",
        "\n",
        "def tokenize_text(text):\n",
        "    return tokenize_([text.numpy().decode('utf-8')])[0]\n",
        "\n",
        "def tf_process_train_dataset_element(image, table_data, text, price):\n",
        "    im_shape = image.shape\n",
        "    [image,] = tf.py_function(process_image, [image], [tf.uint8])\n",
        "    image.set_shape(im_shape)\n",
        "    [text,] = tf.py_function(tokenize_text, [text], [tf.int32])\n",
        "    return (image, table_data, text), price\n",
        "\n",
        "def tf_process_val_dataset_element(image, table_data, text, price):\n",
        "    [text,] = tf.py_function(tokenize_text, [text], [tf.int32])\n",
        "    return (image, table_data, text), price\n",
        "\n",
        "train_dataset = tf.data.Dataset.from_tensor_slices((\n",
        "    images_train, X_train, data.description.iloc[X_train.index], y_train\n",
        "    )).map(tf_process_train_dataset_element)\n",
        "\n",
        "test_dataset = tf.data.Dataset.from_tensor_slices((\n",
        "    images_test, X_test, data.description.iloc[X_test.index], y_test\n",
        "    )).map(tf_process_val_dataset_element)\n",
        "\n",
        "y_sub = np.zeros(len(X_sub))\n",
        "sub_dataset = tf.data.Dataset.from_tensor_slices((\n",
        "    images_sub, X_sub, data.description.iloc[X_sub.index], y_sub\n",
        "    )).map(tf_process_val_dataset_element)\n",
        "\n",
        "#проверяем, что нет ошибок (не будет выброшено исключение):\n",
        "train_dataset.__iter__().__next__();\n",
        "test_dataset.__iter__().__next__();\n",
        "sub_dataset.__iter__().__next__();"
      ],
      "execution_count": null,
      "outputs": []
    },
    {
      "cell_type": "code",
      "metadata": {
        "id": "Pp8QcgnG74iA",
        "colab_type": "code",
        "colab": {}
      },
      "source": [
        "def tf_process_train_dataset_element_img(image,  price):\n",
        "    im_shape = image.shape\n",
        "    [image,] = tf.py_function(process_image, [image], [tf.uint8])\n",
        "    image.set_shape(im_shape)\n",
        "    return (image), price\n",
        "\n",
        "def tf_process_val_dataset_element_img(image,  price):\n",
        "    return (image), price\n",
        "\n",
        "train_dataset_img = tf.data.Dataset.from_tensor_slices((\n",
        "    images_train, y_train\n",
        "    )).map(tf_process_train_dataset_element_img)\n",
        "\n",
        "test_dataset_img = tf.data.Dataset.from_tensor_slices((\n",
        "    images_test,  y_test\n",
        "    )).map(tf_process_val_dataset_element_img)\n",
        "\n",
        "train_dataset_img.__iter__().__next__();\n",
        "test_dataset_img.__iter__().__next__();    "
      ],
      "execution_count": null,
      "outputs": []
    },
    {
      "cell_type": "markdown",
      "metadata": {
        "papermill": {
          "duration": 0.17061,
          "end_time": "2020-09-01T14:25:39.361623",
          "exception": false,
          "start_time": "2020-09-01T14:25:39.191013",
          "status": "completed"
        },
        "tags": [],
        "id": "ViFEf4HFVZxp",
        "colab_type": "text"
      },
      "source": [
        "### Строим сверточную сеть для анализа изображений без \"головы\""
      ]
    },
    {
      "cell_type": "code",
      "metadata": {
        "execution": {
          "iopub.execute_input": "2020-09-01T14:25:39.692042Z",
          "iopub.status.busy": "2020-09-01T14:25:39.691357Z",
          "iopub.status.idle": "2020-09-01T14:25:44.336711Z",
          "shell.execute_reply": "2020-09-01T14:25:44.336144Z"
        },
        "papermill": {
          "duration": 4.81727,
          "end_time": "2020-09-01T14:25:44.336877",
          "exception": false,
          "start_time": "2020-09-01T14:25:39.519607",
          "status": "completed"
        },
        "tags": [],
        "id": "WPxWiNAEVZxq",
        "colab_type": "code",
        "colab": {}
      },
      "source": [
        "#нормализация включена в состав модели EfficientNetB3, поэтому на вход она принимает данные типа uint8\n",
        "efficientnet_model = tf.keras.applications.efficientnet.EfficientNetB3(weights = 'imagenet', include_top = False, input_shape = (size[1], size[0], 3),  drop_connect_rate=0.4)                                                                \n",
        "#efficientnet_output = L.GlobalAveragePooling2D()(efficientnet_model.output)"
      ],
      "execution_count": null,
      "outputs": []
    },
    {
      "cell_type": "code",
      "metadata": {
        "id": "eFjSZOIr3ODe",
        "colab_type": "code",
        "colab": {}
      },
      "source": [
        "# Устанавливаем новую \"голову\" (head)\n",
        "efficientnet_model.training=False\n",
        "\n",
        "x = efficientnet_model.output\n",
        "x = L.GlobalAveragePooling2D()(x)\n",
        "\n",
        "x = L.Dense(100, activation='relu')(x)\n",
        "x = L.Dropout(0.25)(x)\n",
        "\n",
        "predictions = L.Dense(1, )(x)\n",
        "\n",
        "# this is the model we will train\n",
        "model_img = Model(inputs=efficientnet_model.input, outputs=predictions)"
      ],
      "execution_count": null,
      "outputs": []
    },
    {
      "cell_type": "code",
      "metadata": {
        "id": "pRGIB8xB4AJ_",
        "colab_type": "code",
        "colab": {}
      },
      "source": [
        "checkpoint = ModelCheckpoint(os.path.join(PATH,'working',f'best_model_img_{ver}.hdf5'), monitor='val_MAPE', verbose=1, mode='min', save_best_only = True)\n",
        "earlystop = EarlyStopping(monitor='val_MAPE', patience=10, restore_best_weights=True,)\n",
        "callbacks_list = [checkpoint, earlystop]"
      ],
      "execution_count": null,
      "outputs": []
    },
    {
      "cell_type": "code",
      "metadata": {
        "id": "f6rHyXn24VNT",
        "colab_type": "code",
        "colab": {}
      },
      "source": [
        "%%time\n",
        "# заморозим BatchNorm слои\n",
        "# for layer in model.layers:\n",
        "#         if  isinstance(layer, BatchNormalization):\n",
        "#             layer.trainable  =  False \n",
        "#model.compile(loss=\"categorical_crossentropy\", optimizer=optimizers.Adam(lr=LR), metrics=[\"accuracy\"])\n",
        "\n",
        "#model_img.compile(loss=\"MAPE\", optimizer=tf.keras.optimizers.SGD(lr=1e-5, momentum=0.9), metrics=['MAPE'])\n",
        "model_img.compile(loss='MAPE',optimizer=tf.keras.optimizers.Adam(0.005), metrics=['MAPE'])\n",
        "# Загрузим ранее вычисленные веса\n",
        "#model.load_weights(os.path.join(DIR, f'best_model/best_model7_1.hdf5'))\n",
        "\n",
        "history =    model_img.fit(\n",
        "        train_dataset_img.batch(30),\n",
        "        epochs=100,\n",
        "        validation_data = test_dataset_img.batch(30),\n",
        "        # train_generator,\n",
        "        # steps_per_epoch = len(train_generator),\n",
        "        # validation_data = test_generator, \n",
        "        # validation_steps = len(test_generator),\n",
        "        # epochs = 5,\n",
        "        callbacks = callbacks_list\n",
        "       )\n",
        "    \n",
        "    # сохраним итоговую сеть и подгрузим лучшую итерацию в обучении (best_model)\n",
        "\n",
        "# model_img.load_weights(os.path.join(PATH,'working',f'best_model_img_{ver}.hdf5'))\n",
        "# model_img.save(os.path.join(PATH,'working',f'nn_img{ver}.hdf5'))"
      ],
      "execution_count": null,
      "outputs": []
    },
    {
      "cell_type": "code",
      "metadata": {
        "id": "bHnW2VwGhu3Q",
        "colab_type": "code",
        "colab": {}
      },
      "source": [
        "model_img.load_weights(os.path.join(PATH,'working',f'best_model_img_{ver}.hdf5'))\n",
        "model_img.save(os.path.join(PATH,'working',f'nn_img{ver}.hdf5'))"
      ],
      "execution_count": null,
      "outputs": []
    },
    {
      "cell_type": "code",
      "metadata": {
        "id": "M-d2P7Ly7OpQ",
        "colab_type": "code",
        "colab": {}
      },
      "source": [
        "plt.title('Loss')\n",
        "plt.plot(history.history['MAPE'][12:], label='train')\n",
        "plt.plot(history.history['val_MAPE'][12:], label='test')\n",
        "plt.show();"
      ],
      "execution_count": null,
      "outputs": []
    },
    {
      "cell_type": "code",
      "metadata": {
        "id": "aGK3TTbY7YE9",
        "colab_type": "code",
        "colab": {}
      },
      "source": [
        "test_predict_img = model_img.predict(test_dataset.batch(30))\n",
        "print(f\"TEST mape: {(mape(y_test, test_predict_img[:,0]))*100:0.2f}%\")"
      ],
      "execution_count": null,
      "outputs": []
    },
    {
      "cell_type": "code",
      "metadata": {
        "id": "d3zrKbE36zXu",
        "colab_type": "code",
        "colab": {}
      },
      "source": [
        "efficientnet_output = model_img.output #L.GlobalAveragePooling2D()(efficientnet_model.output)"
      ],
      "execution_count": null,
      "outputs": []
    },
    {
      "cell_type": "code",
      "metadata": {
        "id": "bVCiX9uS__AY",
        "colab_type": "code",
        "colab": {}
      },
      "source": [
        "#нормализация включена в состав модели EfficientNetB3, поэтому на вход она принимает данные типа uint8\n",
        "# efficientnet_model = tf.keras.applications.efficientnet.EfficientNetB3(weights = 'imagenet', include_top = False, input_shape = (size[1], size[0], 3),  drop_connect_rate=0.4)                                                                \n",
        "# efficientnet_output = L.GlobalAveragePooling2D()(efficientnet_model.output)"
      ],
      "execution_count": null,
      "outputs": []
    },
    {
      "cell_type": "code",
      "metadata": {
        "execution": {
          "iopub.execute_input": "2020-09-01T14:25:44.677531Z",
          "iopub.status.busy": "2020-09-01T14:25:44.676440Z",
          "iopub.status.idle": "2020-09-01T14:25:44.712553Z",
          "shell.execute_reply": "2020-09-01T14:25:44.711912Z"
        },
        "papermill": {
          "duration": 0.215116,
          "end_time": "2020-09-01T14:25:44.712676",
          "exception": false,
          "start_time": "2020-09-01T14:25:44.497560",
          "status": "completed"
        },
        "tags": [],
        "id": "0bGGBbyuVZxr",
        "colab_type": "code",
        "colab": {}
      },
      "source": [
        "#строим нейросеть для анализа табличных данных\n",
        "tabular_model = Sequential([\n",
        "    L.Input(shape = X.shape[1]),\n",
        "    L.Dense(512, activation = 'relu'),\n",
        "    L.Dropout(0.5),\n",
        "    L.Dense(256, activation = 'relu'),\n",
        "    L.Dropout(0.5),\n",
        "    ])"
      ],
      "execution_count": null,
      "outputs": []
    },
    {
      "cell_type": "code",
      "metadata": {
        "execution": {
          "iopub.execute_input": "2020-09-01T14:25:45.075711Z",
          "iopub.status.busy": "2020-09-01T14:25:45.074580Z",
          "iopub.status.idle": "2020-09-01T14:25:45.816629Z",
          "shell.execute_reply": "2020-09-01T14:25:45.815793Z"
        },
        "papermill": {
          "duration": 0.942686,
          "end_time": "2020-09-01T14:25:45.816789",
          "exception": false,
          "start_time": "2020-09-01T14:25:44.874103",
          "status": "completed"
        },
        "tags": [],
        "id": "Z27Lq0nAVZxt",
        "colab_type": "code",
        "colab": {}
      },
      "source": [
        "# NLP\n",
        "nlp_model = Sequential([\n",
        "    L.Input(shape=MAX_SEQUENCE_LENGTH, name=\"seq_description\"),\n",
        "    L.Embedding(len(tokenize.word_index)+1, MAX_SEQUENCE_LENGTH,),\n",
        "    L.LSTM(256, return_sequences=True),\n",
        "    L.Dropout(0.5),\n",
        "    L.LSTM(128),\n",
        "    L.Dropout(0.25),\n",
        "    L.Dense(64),\n",
        "    ])"
      ],
      "execution_count": null,
      "outputs": []
    },
    {
      "cell_type": "code",
      "metadata": {
        "_kg_hide-output": true,
        "execution": {
          "iopub.execute_input": "2020-09-01T14:25:46.206979Z",
          "iopub.status.busy": "2020-09-01T14:25:46.205817Z",
          "iopub.status.idle": "2020-09-01T14:25:46.431979Z",
          "shell.execute_reply": "2020-09-01T14:25:46.432885Z"
        },
        "papermill": {
          "duration": 0.401007,
          "end_time": "2020-09-01T14:25:46.433104",
          "exception": false,
          "start_time": "2020-09-01T14:25:46.032097",
          "status": "completed"
        },
        "tags": [],
        "id": "TuhT22JmVZxu",
        "colab_type": "code",
        "colab": {}
      },
      "source": [
        "#объединяем выходы трех нейросетей\n",
        "combinedInput = L.concatenate([efficientnet_output, tabular_model.output, nlp_model.output])\n",
        "\n",
        "# being our regression head\n",
        "head = L.Dense(256, activation=\"relu\")(combinedInput)\n",
        "head = L.Dropout(0.5)(head) #0.25\n",
        "#head = L.Dense(128, activation=\"relu\")(head)\n",
        "#head = L.Dropout(0.25)(head)\n",
        "head = L.Dense(1,)(head)\n",
        "\n",
        "model = Model(inputs=[efficientnet_model.input, tabular_model.input, nlp_model.input], outputs=head)\n",
        "#model.summary()"
      ],
      "execution_count": null,
      "outputs": []
    },
    {
      "cell_type": "code",
      "metadata": {
        "execution": {
          "iopub.execute_input": "2020-09-01T14:25:46.942776Z",
          "iopub.status.busy": "2020-09-01T14:25:46.939305Z",
          "iopub.status.idle": "2020-09-01T14:25:46.951318Z",
          "shell.execute_reply": "2020-09-01T14:25:46.950266Z"
        },
        "papermill": {
          "duration": 0.203373,
          "end_time": "2020-09-01T14:25:46.951433",
          "exception": false,
          "start_time": "2020-09-01T14:25:46.748060",
          "status": "completed"
        },
        "tags": [],
        "id": "jrL-buNfVZxw",
        "colab_type": "code",
        "colab": {}
      },
      "source": [
        "optimizer = tf.keras.optimizers.Adam(0.005) #0.005\n",
        "model.compile(loss='MAPE',optimizer=optimizer, metrics=['MAPE'])"
      ],
      "execution_count": null,
      "outputs": []
    },
    {
      "cell_type": "code",
      "metadata": {
        "execution": {
          "iopub.execute_input": "2020-09-01T14:25:47.289433Z",
          "iopub.status.busy": "2020-09-01T14:25:47.288536Z",
          "iopub.status.idle": "2020-09-01T14:25:47.291465Z",
          "shell.execute_reply": "2020-09-01T14:25:47.290958Z"
        },
        "papermill": {
          "duration": 0.173321,
          "end_time": "2020-09-01T14:25:47.291575",
          "exception": false,
          "start_time": "2020-09-01T14:25:47.118254",
          "status": "completed"
        },
        "tags": [],
        "id": "RXC-8BE9VZxx",
        "colab_type": "code",
        "colab": {}
      },
      "source": [
        "#ver = 50\n",
        "checkpoint = ModelCheckpoint(os.path.join(PATH,'working',f'best_model{ver}.hdf5'), monitor='val_MAPE', verbose=1, mode='min', save_best_only = True)\n",
        "earlystop = EarlyStopping(monitor='val_MAPE', patience=10, restore_best_weights=True,)\n",
        "callbacks_list = [checkpoint, earlystop]"
      ],
      "execution_count": null,
      "outputs": []
    },
    {
      "cell_type": "code",
      "metadata": {
        "_kg_hide-output": true,
        "execution": {
          "iopub.execute_input": "2020-09-01T14:25:47.657508Z",
          "iopub.status.busy": "2020-09-01T14:25:47.656523Z",
          "iopub.status.idle": "2020-09-01T16:19:55.625560Z",
          "shell.execute_reply": "2020-09-01T16:19:55.626300Z"
        },
        "papermill": {
          "duration": 6848.170941,
          "end_time": "2020-09-01T16:19:55.626530",
          "exception": false,
          "start_time": "2020-09-01T14:25:47.455589",
          "status": "completed"
        },
        "tags": [],
        "id": "C6s6XXKqVZxy",
        "colab_type": "code",
        "colab": {}
      },
      "source": [
        "%%time\n",
        "history = model.fit(train_dataset.batch(30),\n",
        "                    epochs=100,\n",
        "                    validation_data = test_dataset.batch(30),\n",
        "                    callbacks=callbacks_list\n",
        "                   )"
      ],
      "execution_count": null,
      "outputs": []
    },
    {
      "cell_type": "code",
      "metadata": {
        "execution": {
          "iopub.execute_input": "2020-09-01T16:19:57.004256Z",
          "iopub.status.busy": "2020-09-01T16:19:57.002358Z",
          "iopub.status.idle": "2020-09-01T16:19:57.158626Z",
          "shell.execute_reply": "2020-09-01T16:19:57.159208Z"
        },
        "papermill": {
          "duration": 0.813371,
          "end_time": "2020-09-01T16:19:57.159358",
          "exception": false,
          "start_time": "2020-09-01T16:19:56.345987",
          "status": "completed"
        },
        "tags": [],
        "id": "-TF9103wVZx0",
        "colab_type": "code",
        "colab": {}
      },
      "source": [
        "plt.title('Loss')\n",
        "plt.plot(history.history['MAPE'][12:], label='train')\n",
        "plt.plot(history.history['val_MAPE'][12:], label='test')\n",
        "plt.show();"
      ],
      "execution_count": null,
      "outputs": []
    },
    {
      "cell_type": "code",
      "metadata": {
        "id": "fXQU_ff9aSBp",
        "colab_type": "code",
        "colab": {}
      },
      "source": [
        "#model.load_weights(os.path.join(PATH,'working',f'best_model0.hdf5'))"
      ],
      "execution_count": null,
      "outputs": []
    },
    {
      "cell_type": "code",
      "metadata": {
        "execution": {
          "iopub.execute_input": "2020-09-01T16:19:58.571715Z",
          "iopub.status.busy": "2020-09-01T16:19:58.556276Z",
          "iopub.status.idle": "2020-09-01T16:20:00.736765Z",
          "shell.execute_reply": "2020-09-01T16:20:00.736192Z"
        },
        "papermill": {
          "duration": 2.936709,
          "end_time": "2020-09-01T16:20:00.736888",
          "exception": false,
          "start_time": "2020-09-01T16:19:57.800179",
          "status": "completed"
        },
        "tags": [],
        "id": "r6cjDYNcVZx1",
        "colab_type": "code",
        "colab": {}
      },
      "source": [
        "model.load_weights(os.path.join(PATH,'working',f'best_model{ver}.hdf5'))\n",
        "model.save(os.path.join(PATH,'working',f'nn_final{ver}.hdf5'))"
      ],
      "execution_count": null,
      "outputs": []
    },
    {
      "cell_type": "code",
      "metadata": {
        "execution": {
          "iopub.execute_input": "2020-09-01T16:20:02.082633Z",
          "iopub.status.busy": "2020-09-01T16:20:02.081728Z",
          "iopub.status.idle": "2020-09-01T16:20:08.904220Z",
          "shell.execute_reply": "2020-09-01T16:20:08.903694Z"
        },
        "papermill": {
          "duration": 7.524393,
          "end_time": "2020-09-01T16:20:08.904328",
          "exception": false,
          "start_time": "2020-09-01T16:20:01.379935",
          "status": "completed"
        },
        "tags": [],
        "id": "qoJRdm-mVZx3",
        "colab_type": "code",
        "colab": {}
      },
      "source": [
        "test_predict_nn3 = model.predict(test_dataset.batch(30))\n",
        "print(f\"TEST mape: {(mape(y_test, test_predict_nn3[:,0]))*100:0.2f}%\")"
      ],
      "execution_count": null,
      "outputs": []
    },
    {
      "cell_type": "code",
      "metadata": {
        "execution": {
          "iopub.execute_input": "2020-09-01T16:20:10.214340Z",
          "iopub.status.busy": "2020-09-01T16:20:10.213529Z",
          "iopub.status.idle": "2020-09-01T16:20:16.660072Z",
          "shell.execute_reply": "2020-09-01T16:20:16.659316Z"
        },
        "papermill": {
          "duration": 7.098852,
          "end_time": "2020-09-01T16:20:16.660225",
          "exception": false,
          "start_time": "2020-09-01T16:20:09.561373",
          "status": "completed"
        },
        "tags": [],
        "id": "3R7bcEG7VZx5",
        "colab_type": "code",
        "colab": {}
      },
      "source": [
        "sub_predict_nn3 = model.predict(sub_dataset.batch(30))\n",
        "sample_submission['price'] = sub_predict_nn3[:,0]\n",
        "sample_submission.to_csv(os.path.join(PATH,'submission',f'nn3_submission_{ver}.csv'), index=False)"
      ],
      "execution_count": null,
      "outputs": []
    },
    {
      "cell_type": "markdown",
      "metadata": {
        "papermill": {
          "duration": 0.661791,
          "end_time": "2020-09-01T16:20:18.206974",
          "exception": false,
          "start_time": "2020-09-01T16:20:17.545183",
          "status": "completed"
        },
        "tags": [],
        "id": "bFQTSe1CVZx6",
        "colab_type": "text"
      },
      "source": [
        "\n",
        "#### Общие рекомендации:\n",
        "* Попробовать разные архитектуры\n",
        "* Провести более детальный анализ результатов\n",
        "* Попробовать различные подходы в управление LR и оптимизаторы\n",
        "* Поработать с таргетом\n",
        "* Использовать Fine-tuning\n",
        "\n",
        "#### Tabular\n",
        "* В нейросеть желательно подавать данные с распределением, близким к нормальному, поэтому от некоторых числовых признаков имеет смысл взять логарифм перед нормализацией. Пример:\n",
        "`modelDateNorm = np.log(2020 - data['modelDate'])`\n",
        "Статья по теме: https://habr.com/ru/company/ods/blog/325422\n",
        "\n",
        "* Извлечение числовых значений из текста:\n",
        "Парсинг признаков 'engineDisplacement', 'enginePower', 'Владение' для извлечения числовых значений.\n",
        "\n",
        "* Cокращение размерности категориальных признаков\n",
        "Признак name 'name' содержит данные, которые уже есть в других столбцах ('enginePower', 'engineDisplacement', 'vehicleTransmission'). Можно удалить эти данные. Затем можно еще сильнее сократить размерность, например выделив наличие xDrive в качестве отдельного признака.\n",
        "\n",
        "* Поработать над Feature engineering\n",
        "\n",
        "\n",
        "\n",
        "#### NLP\n",
        "* Выделить из описаний часто встречающиеся блоки текста, заменив их на кодовые слова или удалив\n",
        "* Сделать предобработку текста, например сделать лемматизацию - алгоритм ставящий все слова в форму по умолчанию (глаголы в инфинитив и т. д.), чтобы токенайзер не преобразовывал разные формы слова в разные числа\n",
        "Статья по теме: https://habr.com/ru/company/Voximplant/blog/446738/\n",
        "* Поработать над алгоритмами очистки и аугментации текста\n",
        "\n",
        "\n",
        "\n",
        "#### CV\n",
        "* Попробовать различные аугментации\n",
        "* Fine-tuning"
      ]
    },
    {
      "cell_type": "markdown",
      "metadata": {
        "papermill": {
          "duration": 0.65083,
          "end_time": "2020-09-01T16:20:19.545762",
          "exception": false,
          "start_time": "2020-09-01T16:20:18.894932",
          "status": "completed"
        },
        "tags": [],
        "id": "3y3NRmOXVZx6",
        "colab_type": "text"
      },
      "source": [
        "# Blend"
      ]
    },
    {
      "cell_type": "code",
      "metadata": {
        "execution": {
          "iopub.execute_input": "2020-09-01T16:20:20.947774Z",
          "iopub.status.busy": "2020-09-01T16:20:20.947059Z",
          "iopub.status.idle": "2020-09-01T16:20:20.951353Z",
          "shell.execute_reply": "2020-09-01T16:20:20.950832Z"
        },
        "papermill": {
          "duration": 0.703008,
          "end_time": "2020-09-01T16:20:20.951455",
          "exception": false,
          "start_time": "2020-09-01T16:20:20.248447",
          "status": "completed"
        },
        "tags": [],
        "id": "JPvNQWyDVZx7",
        "colab_type": "code",
        "colab": {}
      },
      "source": [
        "blend_predict = (test_predict_catboost + test_predict_nn3[:,0]) / 2\n",
        "print(f\"TEST mape: {(mape(y_test, blend_predict))*100:0.2f}%\")"
      ],
      "execution_count": null,
      "outputs": []
    },
    {
      "cell_type": "code",
      "metadata": {
        "execution": {
          "iopub.execute_input": "2020-09-01T16:20:22.341125Z",
          "iopub.status.busy": "2020-09-01T16:20:22.333918Z",
          "iopub.status.idle": "2020-09-01T16:20:22.344500Z",
          "shell.execute_reply": "2020-09-01T16:20:22.343881Z"
        },
        "papermill": {
          "duration": 0.736236,
          "end_time": "2020-09-01T16:20:22.344603",
          "exception": false,
          "start_time": "2020-09-01T16:20:21.608367",
          "status": "completed"
        },
        "tags": [],
        "id": "PsNB0LSuVZx9",
        "colab_type": "code",
        "colab": {}
      },
      "source": [
        "blend_sub_predict = (sub_predict_catboost + sub_predict_nn3[:,0]) / 2\n",
        "sample_submission['price'] = blend_sub_predict\n",
        "sample_submission.to_csv(os.path.join(PATH,'submission',f'blend_submission{ver}.csv'), index=False)"
      ],
      "execution_count": null,
      "outputs": []
    },
    {
      "cell_type": "code",
      "metadata": {
        "id": "8w2qUhHpEyXT",
        "colab_type": "code",
        "colab": {}
      },
      "source": [
        "sub_predict_nn3[:,0], test_predict_catboost"
      ],
      "execution_count": null,
      "outputs": []
    },
    {
      "cell_type": "markdown",
      "metadata": {
        "papermill": {
          "duration": 0.638875,
          "end_time": "2020-09-01T16:20:23.635651",
          "exception": false,
          "start_time": "2020-09-01T16:20:22.996776",
          "status": "completed"
        },
        "tags": [],
        "id": "HjWXVTCtVZx_",
        "colab_type": "text"
      },
      "source": [
        "# Model Bonus: проброс признака"
      ]
    },
    {
      "cell_type": "code",
      "metadata": {
        "execution": {
          "iopub.execute_input": "2020-09-01T16:20:25.120507Z",
          "iopub.status.busy": "2020-09-01T16:20:25.119411Z",
          "iopub.status.idle": "2020-09-01T16:20:25.166351Z",
          "shell.execute_reply": "2020-09-01T16:20:25.165433Z"
        },
        "papermill": {
          "duration": 0.707789,
          "end_time": "2020-09-01T16:20:25.166478",
          "exception": false,
          "start_time": "2020-09-01T16:20:24.458689",
          "status": "completed"
        },
        "tags": [],
        "id": "nXCHmwjIVZx_",
        "colab_type": "code",
        "colab": {}
      },
      "source": [
        "# MLP\n",
        "model_mlp = Sequential()\n",
        "model_mlp.add(L.Dense(512, input_dim=X_train.shape[1], activation=\"relu\"))\n",
        "model_mlp.add(L.Dropout(0.5))\n",
        "model_mlp.add(L.Dense(256, activation=\"relu\"))\n",
        "model_mlp.add(L.Dropout(0.5))"
      ],
      "execution_count": null,
      "outputs": []
    },
    {
      "cell_type": "code",
      "metadata": {
        "execution": {
          "iopub.execute_input": "2020-09-01T16:20:26.527428Z",
          "iopub.status.busy": "2020-09-01T16:20:26.526526Z",
          "iopub.status.idle": "2020-09-01T16:20:26.538515Z",
          "shell.execute_reply": "2020-09-01T16:20:26.538029Z"
        },
        "papermill": {
          "duration": 0.66647,
          "end_time": "2020-09-01T16:20:26.538618",
          "exception": false,
          "start_time": "2020-09-01T16:20:25.872148",
          "status": "completed"
        },
        "tags": [],
        "id": "eP0Rz__IVZyA",
        "colab_type": "code",
        "colab": {}
      },
      "source": [
        "# FEATURE Input\n",
        "# Input\n",
        "productiondate = L.Input(shape=[1], name=\"productiondate\")\n",
        "# Embeddings layers\n",
        "emb_productiondate = L.Embedding(len(X.productionDate.unique().tolist())+1, 20)(productiondate)\n",
        "f_productiondate = L.Flatten()(emb_productiondate)"
      ],
      "execution_count": null,
      "outputs": []
    },
    {
      "cell_type": "code",
      "metadata": {
        "execution": {
          "iopub.execute_input": "2020-09-01T16:20:28.264725Z",
          "iopub.status.busy": "2020-09-01T16:20:28.263294Z",
          "iopub.status.idle": "2020-09-01T16:20:28.319117Z",
          "shell.execute_reply": "2020-09-01T16:20:28.318312Z"
        },
        "papermill": {
          "duration": 1.135589,
          "end_time": "2020-09-01T16:20:28.319282",
          "exception": false,
          "start_time": "2020-09-01T16:20:27.183693",
          "status": "completed"
        },
        "tags": [],
        "id": "Edp3Fw-zVZyC",
        "colab_type": "code",
        "colab": {}
      },
      "source": [
        "combinedInput = L.concatenate([model_mlp.output, f_productiondate,])\n",
        "# being our regression head\n",
        "head = L.Dense(64, activation=\"relu\")(combinedInput)\n",
        "head = L.Dense(1, activation=\"linear\")(head)\n",
        "\n",
        "model = Model(inputs=[model_mlp.input, productiondate], outputs=head)"
      ],
      "execution_count": null,
      "outputs": []
    },
    {
      "cell_type": "code",
      "metadata": {
        "_kg_hide-output": true,
        "execution": {
          "iopub.execute_input": "2020-09-01T16:20:29.831949Z",
          "iopub.status.busy": "2020-09-01T16:20:29.827246Z",
          "iopub.status.idle": "2020-09-01T16:20:29.840686Z",
          "shell.execute_reply": "2020-09-01T16:20:29.840195Z"
        },
        "papermill": {
          "duration": 0.716237,
          "end_time": "2020-09-01T16:20:29.840808",
          "exception": false,
          "start_time": "2020-09-01T16:20:29.124571",
          "status": "completed"
        },
        "tags": [],
        "id": "S-xltbgEVZyD",
        "colab_type": "code",
        "colab": {}
      },
      "source": [
        "model.summary()"
      ],
      "execution_count": null,
      "outputs": []
    },
    {
      "cell_type": "code",
      "metadata": {
        "execution": {
          "iopub.execute_input": "2020-09-01T16:20:31.201532Z",
          "iopub.status.busy": "2020-09-01T16:20:31.199608Z",
          "iopub.status.idle": "2020-09-01T16:20:31.206820Z",
          "shell.execute_reply": "2020-09-01T16:20:31.206303Z"
        },
        "papermill": {
          "duration": 0.684582,
          "end_time": "2020-09-01T16:20:31.206944",
          "exception": false,
          "start_time": "2020-09-01T16:20:30.522362",
          "status": "completed"
        },
        "tags": [],
        "id": "kIeWzkzhVZyF",
        "colab_type": "code",
        "colab": {}
      },
      "source": [
        "optimizer = tf.keras.optimizers.Adam(0.01)\n",
        "model.compile(loss='MAPE',optimizer=optimizer, metrics=['MAPE'])"
      ],
      "execution_count": null,
      "outputs": []
    },
    {
      "cell_type": "code",
      "metadata": {
        "id": "qLgWRROFIg--",
        "colab_type": "code",
        "colab": {}
      },
      "source": [
        "checkpoint = ModelCheckpoint(os.path.join(PATH,'working',f'best_modelb{ver}.hdf5'), monitor='val_MAPE', verbose=1, mode='min', save_best_only = True)\n",
        "earlystop = EarlyStopping(monitor='val_MAPE', patience=10, restore_best_weights=True,)\n",
        "callbacks_list = [checkpoint, earlystop]"
      ],
      "execution_count": null,
      "outputs": []
    },
    {
      "cell_type": "code",
      "metadata": {
        "execution": {
          "iopub.execute_input": "2020-09-01T16:20:32.561247Z",
          "iopub.status.busy": "2020-09-01T16:20:32.560305Z",
          "iopub.status.idle": "2020-09-01T16:20:54.310513Z",
          "shell.execute_reply": "2020-09-01T16:20:54.310002Z"
        },
        "papermill": {
          "duration": 22.400657,
          "end_time": "2020-09-01T16:20:54.310620",
          "exception": false,
          "start_time": "2020-09-01T16:20:31.909963",
          "status": "completed"
        },
        "tags": [],
        "id": "UabsJslQVZyG",
        "colab_type": "code",
        "colab": {}
      },
      "source": [
        "history = model.fit([X_train, X_train.productionDate.values], y_train,\n",
        "                    batch_size=512,\n",
        "                    epochs=500, # фактически мы обучаем пока EarlyStopping не остановит обучение\n",
        "                    validation_data=([X_test, X_test.productionDate.values], y_test),\n",
        "                    callbacks=callbacks_list\n",
        "                   )"
      ],
      "execution_count": null,
      "outputs": []
    },
    {
      "cell_type": "code",
      "metadata": {
        "execution": {
          "iopub.execute_input": "2020-09-01T16:20:55.707465Z",
          "iopub.status.busy": "2020-09-01T16:20:55.706233Z",
          "iopub.status.idle": "2020-09-01T16:20:55.926148Z",
          "shell.execute_reply": "2020-09-01T16:20:55.927272Z"
        },
        "papermill": {
          "duration": 0.899485,
          "end_time": "2020-09-01T16:20:55.927469",
          "exception": false,
          "start_time": "2020-09-01T16:20:55.027984",
          "status": "completed"
        },
        "tags": [],
        "id": "AVldsuo1VZyI",
        "colab_type": "code",
        "colab": {}
      },
      "source": [
        "model.load_weights(os.path.join(PATH,'working',f'best_modelb{ver}.hdf5'))\n",
        "test_predict_nn_bonus = model.predict([X_test, X_test.productionDate.values])\n",
        "print(f\"TEST mape: {(mape(y_test, test_predict_nn_bonus[:,0]))*100:0.2f}%\")"
      ],
      "execution_count": null,
      "outputs": []
    },
    {
      "cell_type": "code",
      "metadata": {
        "id": "wdg2QYtEbN4m",
        "colab_type": "code",
        "colab": {}
      },
      "source": [
        "#blend_predict = (test_predict_catboost + test_predict_nn3[:,0] + test_predict_nn_bonus[:,0]) / 3\n",
        "blend_predict = (test_predict_catboost + test_predict_nn3[:,0] + test_predict_nn1[:,0]) / 3\n",
        "print(f\"TEST mape: {(mape(y_test, blend_predict))*100:0.2f}%\")"
      ],
      "execution_count": null,
      "outputs": []
    },
    {
      "cell_type": "code",
      "metadata": {
        "id": "0Imhd_8_bqi1",
        "colab_type": "code",
        "colab": {}
      },
      "source": [
        "sub_predict_nn_bonus = model.predict([X_sub, X_sub.productionDate.values])\n",
        "sample_submission['price'] = sub_predict_nn_bonus[:,0]\n",
        "sample_submission.to_csv(os.path.join(PATH,'submission',f'nn_bonus_submission_{ver}.csv'), index=False)"
      ],
      "execution_count": null,
      "outputs": []
    },
    {
      "cell_type": "code",
      "metadata": {
        "id": "uK6B49cMbjEh",
        "colab_type": "code",
        "colab": {}
      },
      "source": [
        "blend_sub_predict = (sub_predict_catboost + sub_predict_nn3[:,0] + sub_predict_nn_bonus[:,0]) / 3\n",
        "sample_submission['price'] = blend_sub_predict\n",
        "sample_submission.to_csv(os.path.join(PATH,'submission',f'blend_submission_bonus{ver}.csv'), index=False)"
      ],
      "execution_count": null,
      "outputs": []
    }
  ]
}